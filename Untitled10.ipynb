{
  "nbformat": 4,
  "nbformat_minor": 0,
  "metadata": {
    "colab": {
      "name": "Untitled10.ipynb",
      "provenance": [],
      "authorship_tag": "ABX9TyMNpf1YZcNcmm2v7qkGKWPH",
      "include_colab_link": true
    },
    "kernelspec": {
      "name": "python3",
      "display_name": "Python 3"
    },
    "language_info": {
      "name": "python"
    }
  },
  "cells": [
    {
      "cell_type": "markdown",
      "metadata": {
        "id": "view-in-github",
        "colab_type": "text"
      },
      "source": [
        "<a href=\"https://colab.research.google.com/github/19PA1A0493/PYTHON-BASICS/blob/master/Untitled10.ipynb\" target=\"_parent\"><img src=\"https://colab.research.google.com/assets/colab-badge.svg\" alt=\"Open In Colab\"/></a>"
      ]
    },
    {
      "cell_type": "code",
      "execution_count": 1,
      "metadata": {
        "colab": {
          "base_uri": "https://localhost:8080/"
        },
        "id": "nlxWtbpSNygw",
        "outputId": "44f7c748-ef6a-4218-d21d-4c4f3476abcf"
      },
      "outputs": [
        {
          "output_type": "stream",
          "name": "stdout",
          "text": [
            "Collecting gradio\n",
            "  Downloading gradio-2.6.4-py3-none-any.whl (900 kB)\n",
            "\u001b[?25l\r\u001b[K     |▍                               | 10 kB 17.4 MB/s eta 0:00:01\r\u001b[K     |▊                               | 20 kB 14.2 MB/s eta 0:00:01\r\u001b[K     |█                               | 30 kB 10.4 MB/s eta 0:00:01\r\u001b[K     |█▌                              | 40 kB 8.9 MB/s eta 0:00:01\r\u001b[K     |█▉                              | 51 kB 5.0 MB/s eta 0:00:01\r\u001b[K     |██▏                             | 61 kB 5.2 MB/s eta 0:00:01\r\u001b[K     |██▌                             | 71 kB 5.4 MB/s eta 0:00:01\r\u001b[K     |███                             | 81 kB 6.1 MB/s eta 0:00:01\r\u001b[K     |███▎                            | 92 kB 4.7 MB/s eta 0:00:01\r\u001b[K     |███▋                            | 102 kB 5.1 MB/s eta 0:00:01\r\u001b[K     |████                            | 112 kB 5.1 MB/s eta 0:00:01\r\u001b[K     |████▍                           | 122 kB 5.1 MB/s eta 0:00:01\r\u001b[K     |████▊                           | 133 kB 5.1 MB/s eta 0:00:01\r\u001b[K     |█████                           | 143 kB 5.1 MB/s eta 0:00:01\r\u001b[K     |█████▌                          | 153 kB 5.1 MB/s eta 0:00:01\r\u001b[K     |█████▉                          | 163 kB 5.1 MB/s eta 0:00:01\r\u001b[K     |██████▏                         | 174 kB 5.1 MB/s eta 0:00:01\r\u001b[K     |██████▌                         | 184 kB 5.1 MB/s eta 0:00:01\r\u001b[K     |███████                         | 194 kB 5.1 MB/s eta 0:00:01\r\u001b[K     |███████▎                        | 204 kB 5.1 MB/s eta 0:00:01\r\u001b[K     |███████▋                        | 215 kB 5.1 MB/s eta 0:00:01\r\u001b[K     |████████                        | 225 kB 5.1 MB/s eta 0:00:01\r\u001b[K     |████████▍                       | 235 kB 5.1 MB/s eta 0:00:01\r\u001b[K     |████████▊                       | 245 kB 5.1 MB/s eta 0:00:01\r\u001b[K     |█████████                       | 256 kB 5.1 MB/s eta 0:00:01\r\u001b[K     |█████████▌                      | 266 kB 5.1 MB/s eta 0:00:01\r\u001b[K     |█████████▉                      | 276 kB 5.1 MB/s eta 0:00:01\r\u001b[K     |██████████▏                     | 286 kB 5.1 MB/s eta 0:00:01\r\u001b[K     |██████████▌                     | 296 kB 5.1 MB/s eta 0:00:01\r\u001b[K     |███████████                     | 307 kB 5.1 MB/s eta 0:00:01\r\u001b[K     |███████████▎                    | 317 kB 5.1 MB/s eta 0:00:01\r\u001b[K     |███████████▋                    | 327 kB 5.1 MB/s eta 0:00:01\r\u001b[K     |████████████                    | 337 kB 5.1 MB/s eta 0:00:01\r\u001b[K     |████████████▍                   | 348 kB 5.1 MB/s eta 0:00:01\r\u001b[K     |████████████▊                   | 358 kB 5.1 MB/s eta 0:00:01\r\u001b[K     |█████████████                   | 368 kB 5.1 MB/s eta 0:00:01\r\u001b[K     |█████████████▌                  | 378 kB 5.1 MB/s eta 0:00:01\r\u001b[K     |█████████████▉                  | 389 kB 5.1 MB/s eta 0:00:01\r\u001b[K     |██████████████▏                 | 399 kB 5.1 MB/s eta 0:00:01\r\u001b[K     |██████████████▌                 | 409 kB 5.1 MB/s eta 0:00:01\r\u001b[K     |███████████████                 | 419 kB 5.1 MB/s eta 0:00:01\r\u001b[K     |███████████████▎                | 430 kB 5.1 MB/s eta 0:00:01\r\u001b[K     |███████████████▋                | 440 kB 5.1 MB/s eta 0:00:01\r\u001b[K     |████████████████                | 450 kB 5.1 MB/s eta 0:00:01\r\u001b[K     |████████████████▍               | 460 kB 5.1 MB/s eta 0:00:01\r\u001b[K     |████████████████▊               | 471 kB 5.1 MB/s eta 0:00:01\r\u001b[K     |█████████████████               | 481 kB 5.1 MB/s eta 0:00:01\r\u001b[K     |█████████████████▌              | 491 kB 5.1 MB/s eta 0:00:01\r\u001b[K     |█████████████████▉              | 501 kB 5.1 MB/s eta 0:00:01\r\u001b[K     |██████████████████▏             | 512 kB 5.1 MB/s eta 0:00:01\r\u001b[K     |██████████████████▋             | 522 kB 5.1 MB/s eta 0:00:01\r\u001b[K     |███████████████████             | 532 kB 5.1 MB/s eta 0:00:01\r\u001b[K     |███████████████████▎            | 542 kB 5.1 MB/s eta 0:00:01\r\u001b[K     |███████████████████▋            | 552 kB 5.1 MB/s eta 0:00:01\r\u001b[K     |████████████████████            | 563 kB 5.1 MB/s eta 0:00:01\r\u001b[K     |████████████████████▍           | 573 kB 5.1 MB/s eta 0:00:01\r\u001b[K     |████████████████████▊           | 583 kB 5.1 MB/s eta 0:00:01\r\u001b[K     |█████████████████████           | 593 kB 5.1 MB/s eta 0:00:01\r\u001b[K     |█████████████████████▌          | 604 kB 5.1 MB/s eta 0:00:01\r\u001b[K     |█████████████████████▉          | 614 kB 5.1 MB/s eta 0:00:01\r\u001b[K     |██████████████████████▏         | 624 kB 5.1 MB/s eta 0:00:01\r\u001b[K     |██████████████████████▋         | 634 kB 5.1 MB/s eta 0:00:01\r\u001b[K     |███████████████████████         | 645 kB 5.1 MB/s eta 0:00:01\r\u001b[K     |███████████████████████▎        | 655 kB 5.1 MB/s eta 0:00:01\r\u001b[K     |███████████████████████▋        | 665 kB 5.1 MB/s eta 0:00:01\r\u001b[K     |████████████████████████        | 675 kB 5.1 MB/s eta 0:00:01\r\u001b[K     |████████████████████████▍       | 686 kB 5.1 MB/s eta 0:00:01\r\u001b[K     |████████████████████████▊       | 696 kB 5.1 MB/s eta 0:00:01\r\u001b[K     |█████████████████████████       | 706 kB 5.1 MB/s eta 0:00:01\r\u001b[K     |█████████████████████████▌      | 716 kB 5.1 MB/s eta 0:00:01\r\u001b[K     |█████████████████████████▉      | 727 kB 5.1 MB/s eta 0:00:01\r\u001b[K     |██████████████████████████▏     | 737 kB 5.1 MB/s eta 0:00:01\r\u001b[K     |██████████████████████████▋     | 747 kB 5.1 MB/s eta 0:00:01\r\u001b[K     |███████████████████████████     | 757 kB 5.1 MB/s eta 0:00:01\r\u001b[K     |███████████████████████████▎    | 768 kB 5.1 MB/s eta 0:00:01\r\u001b[K     |███████████████████████████▋    | 778 kB 5.1 MB/s eta 0:00:01\r\u001b[K     |████████████████████████████    | 788 kB 5.1 MB/s eta 0:00:01\r\u001b[K     |████████████████████████████▍   | 798 kB 5.1 MB/s eta 0:00:01\r\u001b[K     |████████████████████████████▊   | 808 kB 5.1 MB/s eta 0:00:01\r\u001b[K     |█████████████████████████████   | 819 kB 5.1 MB/s eta 0:00:01\r\u001b[K     |█████████████████████████████▌  | 829 kB 5.1 MB/s eta 0:00:01\r\u001b[K     |█████████████████████████████▉  | 839 kB 5.1 MB/s eta 0:00:01\r\u001b[K     |██████████████████████████████▏ | 849 kB 5.1 MB/s eta 0:00:01\r\u001b[K     |██████████████████████████████▋ | 860 kB 5.1 MB/s eta 0:00:01\r\u001b[K     |███████████████████████████████ | 870 kB 5.1 MB/s eta 0:00:01\r\u001b[K     |███████████████████████████████▎| 880 kB 5.1 MB/s eta 0:00:01\r\u001b[K     |███████████████████████████████▋| 890 kB 5.1 MB/s eta 0:00:01\r\u001b[K     |████████████████████████████████| 900 kB 5.1 MB/s \n",
            "\u001b[?25hCollecting analytics-python\n",
            "  Downloading analytics_python-1.4.0-py2.py3-none-any.whl (15 kB)\n",
            "Requirement already satisfied: numpy in /usr/local/lib/python3.7/dist-packages (from gradio) (1.19.5)\n",
            "Requirement already satisfied: matplotlib in /usr/local/lib/python3.7/dist-packages (from gradio) (3.2.2)\n",
            "Collecting pycryptodome\n",
            "  Downloading pycryptodome-3.12.0-cp35-abi3-manylinux2010_x86_64.whl (2.0 MB)\n",
            "\u001b[K     |████████████████████████████████| 2.0 MB 49.8 MB/s \n",
            "\u001b[?25hCollecting Flask-Cors>=3.0.8\n",
            "  Downloading Flask_Cors-3.0.10-py2.py3-none-any.whl (14 kB)\n",
            "Collecting ffmpy\n",
            "  Downloading ffmpy-0.3.0.tar.gz (4.8 kB)\n",
            "Requirement already satisfied: pillow in /usr/local/lib/python3.7/dist-packages (from gradio) (7.1.2)\n",
            "Collecting Flask-Login\n",
            "  Downloading Flask_Login-0.5.0-py2.py3-none-any.whl (16 kB)\n",
            "Requirement already satisfied: pandas in /usr/local/lib/python3.7/dist-packages (from gradio) (1.1.5)\n",
            "Collecting pydub\n",
            "  Downloading pydub-0.25.1-py2.py3-none-any.whl (32 kB)\n",
            "Collecting flask-cachebuster\n",
            "  Downloading Flask-CacheBuster-1.0.0.tar.gz (3.1 kB)\n",
            "Requirement already satisfied: requests in /usr/local/lib/python3.7/dist-packages (from gradio) (2.23.0)\n",
            "Collecting markdown2\n",
            "  Downloading markdown2-2.4.2-py2.py3-none-any.whl (34 kB)\n",
            "Requirement already satisfied: Flask>=1.1.1 in /usr/local/lib/python3.7/dist-packages (from gradio) (1.1.4)\n",
            "Collecting paramiko\n",
            "  Downloading paramiko-2.9.1-py2.py3-none-any.whl (210 kB)\n",
            "\u001b[K     |████████████████████████████████| 210 kB 45.0 MB/s \n",
            "\u001b[?25hRequirement already satisfied: itsdangerous<2.0,>=0.24 in /usr/local/lib/python3.7/dist-packages (from Flask>=1.1.1->gradio) (1.1.0)\n",
            "Requirement already satisfied: Werkzeug<2.0,>=0.15 in /usr/local/lib/python3.7/dist-packages (from Flask>=1.1.1->gradio) (1.0.1)\n",
            "Requirement already satisfied: click<8.0,>=5.1 in /usr/local/lib/python3.7/dist-packages (from Flask>=1.1.1->gradio) (7.1.2)\n",
            "Requirement already satisfied: Jinja2<3.0,>=2.10.1 in /usr/local/lib/python3.7/dist-packages (from Flask>=1.1.1->gradio) (2.11.3)\n",
            "Requirement already satisfied: Six in /usr/local/lib/python3.7/dist-packages (from Flask-Cors>=3.0.8->gradio) (1.15.0)\n",
            "Requirement already satisfied: MarkupSafe>=0.23 in /usr/local/lib/python3.7/dist-packages (from Jinja2<3.0,>=2.10.1->Flask>=1.1.1->gradio) (2.0.1)\n",
            "Collecting monotonic>=1.5\n",
            "  Downloading monotonic-1.6-py2.py3-none-any.whl (8.2 kB)\n",
            "Collecting backoff==1.10.0\n",
            "  Downloading backoff-1.10.0-py2.py3-none-any.whl (31 kB)\n",
            "Requirement already satisfied: python-dateutil>2.1 in /usr/local/lib/python3.7/dist-packages (from analytics-python->gradio) (2.8.2)\n",
            "Requirement already satisfied: idna<3,>=2.5 in /usr/local/lib/python3.7/dist-packages (from requests->gradio) (2.10)\n",
            "Requirement already satisfied: urllib3!=1.25.0,!=1.25.1,<1.26,>=1.21.1 in /usr/local/lib/python3.7/dist-packages (from requests->gradio) (1.24.3)\n",
            "Requirement already satisfied: chardet<4,>=3.0.2 in /usr/local/lib/python3.7/dist-packages (from requests->gradio) (3.0.4)\n",
            "Requirement already satisfied: certifi>=2017.4.17 in /usr/local/lib/python3.7/dist-packages (from requests->gradio) (2021.10.8)\n",
            "Requirement already satisfied: kiwisolver>=1.0.1 in /usr/local/lib/python3.7/dist-packages (from matplotlib->gradio) (1.3.2)\n",
            "Requirement already satisfied: pyparsing!=2.0.4,!=2.1.2,!=2.1.6,>=2.0.1 in /usr/local/lib/python3.7/dist-packages (from matplotlib->gradio) (3.0.6)\n",
            "Requirement already satisfied: cycler>=0.10 in /usr/local/lib/python3.7/dist-packages (from matplotlib->gradio) (0.11.0)\n",
            "Requirement already satisfied: pytz>=2017.2 in /usr/local/lib/python3.7/dist-packages (from pandas->gradio) (2018.9)\n",
            "Collecting pynacl>=1.0.1\n",
            "  Downloading PyNaCl-1.4.0-cp35-abi3-manylinux1_x86_64.whl (961 kB)\n",
            "\u001b[K     |████████████████████████████████| 961 kB 45.2 MB/s \n",
            "\u001b[?25hCollecting cryptography>=2.5\n",
            "  Downloading cryptography-36.0.1-cp36-abi3-manylinux_2_24_x86_64.whl (3.6 MB)\n",
            "\u001b[K     |████████████████████████████████| 3.6 MB 22.6 MB/s \n",
            "\u001b[?25hCollecting bcrypt>=3.1.3\n",
            "  Downloading bcrypt-3.2.0-cp36-abi3-manylinux_2_17_x86_64.manylinux2014_x86_64.manylinux_2_24_x86_64.whl (61 kB)\n",
            "\u001b[K     |████████████████████████████████| 61 kB 411 kB/s \n",
            "\u001b[?25hRequirement already satisfied: cffi>=1.1 in /usr/local/lib/python3.7/dist-packages (from bcrypt>=3.1.3->paramiko->gradio) (1.15.0)\n",
            "Requirement already satisfied: pycparser in /usr/local/lib/python3.7/dist-packages (from cffi>=1.1->bcrypt>=3.1.3->paramiko->gradio) (2.21)\n",
            "Building wheels for collected packages: ffmpy, flask-cachebuster\n",
            "  Building wheel for ffmpy (setup.py) ... \u001b[?25l\u001b[?25hdone\n",
            "  Created wheel for ffmpy: filename=ffmpy-0.3.0-py3-none-any.whl size=4710 sha256=1899c49c2e76175e28ec46ab21e374879b0d29b3e8392a2d00e95d62aabc62bd\n",
            "  Stored in directory: /root/.cache/pip/wheels/13/e4/6c/e8059816e86796a597c6e6b0d4c880630f51a1fcfa0befd5e6\n",
            "  Building wheel for flask-cachebuster (setup.py) ... \u001b[?25l\u001b[?25hdone\n",
            "  Created wheel for flask-cachebuster: filename=Flask_CacheBuster-1.0.0-py3-none-any.whl size=3371 sha256=ece651f5db5b4eb30c0ec5bd37842894d2c0185300affffa051b317ad3420412\n",
            "  Stored in directory: /root/.cache/pip/wheels/28/c0/c4/44687421dab41455be93112bd1b0dee1f3c5a9aa27bee63708\n",
            "Successfully built ffmpy flask-cachebuster\n",
            "Installing collected packages: pynacl, monotonic, cryptography, bcrypt, backoff, pydub, pycryptodome, paramiko, markdown2, Flask-Login, Flask-Cors, flask-cachebuster, ffmpy, analytics-python, gradio\n",
            "Successfully installed Flask-Cors-3.0.10 Flask-Login-0.5.0 analytics-python-1.4.0 backoff-1.10.0 bcrypt-3.2.0 cryptography-36.0.1 ffmpy-0.3.0 flask-cachebuster-1.0.0 gradio-2.6.4 markdown2-2.4.2 monotonic-1.6 paramiko-2.9.1 pycryptodome-3.12.0 pydub-0.25.1 pynacl-1.4.0\n"
          ]
        }
      ],
      "source": [
        "!pip install gradio"
      ]
    },
    {
      "cell_type": "code",
      "source": [
        "import tensorflow as tf\n",
        "(x_train, y_train), (x_test, y_test) = tf.keras.datasets.mnist.load_data()"
      ],
      "metadata": {
        "colab": {
          "base_uri": "https://localhost:8080/"
        },
        "id": "tmf_m_BlORN7",
        "outputId": "93518a59-1728-4fc4-cba9-e7dd6ff6b0e1"
      },
      "execution_count": 2,
      "outputs": [
        {
          "output_type": "stream",
          "name": "stdout",
          "text": [
            "Downloading data from https://storage.googleapis.com/tensorflow/tf-keras-datasets/mnist.npz\n",
            "11493376/11490434 [==============================] - 0s 0us/step\n",
            "11501568/11490434 [==============================] - 0s 0us/step\n"
          ]
        }
      ]
    },
    {
      "cell_type": "code",
      "source": [
        "x_train = x_train.reshape(x_train.shape[0], 28, 28, 1)\n",
        "x_test = x_test.reshape(x_test.shape[0], 28, 28, 1)\n",
        "input_shape = (28, 28, 1)\n",
        "x_train = x_train.astype('float32')\n",
        "x_test = x_test.astype('float32')\n",
        "x_train /= 255\n",
        "x_test /= 255"
      ],
      "metadata": {
        "id": "UP8CGcZuOZb8"
      },
      "execution_count": 3,
      "outputs": []
    },
    {
      "cell_type": "code",
      "source": [
        "from tensorflow.keras.models import Sequential\n",
        "from tensorflow.keras.layers import Dense, Conv2D, Dropout, Flatten, MaxPooling2D\n",
        "model = Sequential()\n",
        "model.add(Conv2D(28, kernel_size=(3,3), input_shape=input_shape))\n",
        "model.add(MaxPooling2D(pool_size=(2, 2)))\n",
        "model.add(Flatten())\n",
        "model.add(Dense(128, activation=tf.nn.relu))\n",
        "model.add(Dropout(0.2))\n",
        "model.add(Dense(10,activation=tf.nn.softmax))\n",
        "\n",
        "model.compile(optimizer='adam', loss='sparse_categorical_crossentropy', metrics=['accuracy'])\n",
        "model.fit(x=x_train,y=y_train, epochs=1)"
      ],
      "metadata": {
        "colab": {
          "base_uri": "https://localhost:8080/"
        },
        "id": "4LmGzxvMOaUK",
        "outputId": "2421370d-503b-4003-89dc-9cdfaf8050a4"
      },
      "execution_count": 4,
      "outputs": [
        {
          "output_type": "stream",
          "name": "stdout",
          "text": [
            "1875/1875 [==============================] - 50s 26ms/step - loss: 0.2150 - accuracy: 0.9342\n"
          ]
        },
        {
          "output_type": "execute_result",
          "data": {
            "text/plain": [
              "<keras.callbacks.History at 0x7f5400aa3050>"
            ]
          },
          "metadata": {},
          "execution_count": 4
        }
      ]
    },
    {
      "cell_type": "code",
      "source": [
        "model.evaluate(x_test, y_test)\n",
        "import matplotlib.pyplot as plt"
      ],
      "metadata": {
        "colab": {
          "base_uri": "https://localhost:8080/"
        },
        "id": "EaaOhkaZOfYJ",
        "outputId": "433aaa0e-6e51-45de-e3c1-a1865e09fb9e"
      },
      "execution_count": 5,
      "outputs": [
        {
          "output_type": "stream",
          "name": "stdout",
          "text": [
            "313/313 [==============================] - 3s 10ms/step - loss: 0.0804 - accuracy: 0.9758\n"
          ]
        }
      ]
    },
    {
      "cell_type": "code",
      "source": [
        "image_index = 5555\n",
        "plt.imshow(x_test[image_index].reshape(28, 28),cmap='Greys')\n",
        "pred = model.predict(x_test[image_index].reshape(1, 28, 28, 1))\n",
        "print(pred.argmax())"
      ],
      "metadata": {
        "colab": {
          "base_uri": "https://localhost:8080/",
          "height": 282
        },
        "id": "kbC3YasJOlou",
        "outputId": "ec266bc4-c2ab-4ff4-e3e7-a80c1b853827"
      },
      "execution_count": 6,
      "outputs": [
        {
          "output_type": "stream",
          "name": "stdout",
          "text": [
            "3\n"
          ]
        },
        {
          "output_type": "display_data",
          "data": {
            "image/png": "[encoded data removed]",
            "text/plain": [
              "<Figure size 432x288 with 1 Axes>"
            ]
          },
          "metadata": {
            "needs_background": "light"
          }
        }
      ]
    },
    {
      "cell_type": "code",
      "source": [
        "scores=model.evaluate(x_test,y_test)\n",
        "print('Accuracy:', scores[1]*100)"
      ],
      "metadata": {
        "colab": {
          "base_uri": "https://localhost:8080/"
        },
        "id": "0wsoYiBFOr-3",
        "outputId": "3f3df3ef-9540-4dca-ce4d-6ee1aaed3a3e"
      },
      "execution_count": 7,
      "outputs": [
        {
          "output_type": "stream",
          "name": "stdout",
          "text": [
            "313/313 [==============================] - 3s 10ms/step - loss: 0.0804 - accuracy: 0.9758\n",
            "Accuracy: 97.57999777793884\n"
          ]
        }
      ]
    },
    {
      "cell_type": "code",
      "source": [
        "import gradio as gr"
      ],
      "metadata": {
        "id": "PJc_2FafO5R2"
      },
      "execution_count": 9,
      "outputs": []
    },
    {
      "cell_type": "code",
      "source": [
        "def classify(input):\n",
        "    prediction = model.predict(input.reshape(1, 28, 28)).tolist()[0]\n",
        "    return {str(i): prediction[i] for i in range(10)}\n",
        "\n",
        "label = gr.outputs.Label(num_top_classes=3)\n",
        "interface = gr.Interface(fn=classify, inputs=\"sketchpad\", outputs=label, \n",
        "live=True)\n",
        "interface.launch()"
      ],
      "metadata": {
        "colab": {
          "base_uri": "https://localhost:8080/",
          "height": 643
        },
        "id": "GONJPjukOsvm",
        "outputId": "e828af26-8230-46bd-8821-c1a8e5fdc0b8"
      },
      "execution_count": 10,
      "outputs": [
        {
          "output_type": "stream",
          "name": "stdout",
          "text": [
            "Colab notebook detected. To show errors in colab notebook, set `debug=True` in `launch()`\n",
            "Running on public URL: https://57310.gradio.app\n",
            "\n",
            "This share link expires in 72 hours. For free permanent hosting, check out Spaces (https://huggingface.co/spaces)\n"
          ]
        },
        {
          "output_type": "display_data",
          "data": {
            "text/html": [
              "\n",
              "        <iframe\n",
              "            width=\"900\"\n",
              "            height=\"500\"\n",
              "            src=\"https://57310.gradio.app\"\n",
              "            frameborder=\"0\"\n",
              "            allowfullscreen\n",
              "        ></iframe>\n",
              "        "
            ],
            "text/plain": [
              "<IPython.lib.display.IFrame at 0x7f53ff201410>"
            ]
          },
          "metadata": {}
        },
        {
          "output_type": "execute_result",
          "data": {
            "text/plain": [
              "(<Flask 'gradio.networking'>,\n",
              " 'http://127.0.0.1:7860/',\n",
              " 'https://57310.gradio.app')"
            ]
          },
          "metadata": {},
          "execution_count": 10
        }
      ]
    },
    {
      "cell_type": "code",
      "source": [
        ""
      ],
      "metadata": {
        "id": "JRKOtBNJOy2M"
      },
      "execution_count": null,
      "outputs": []
    }
  ]
}