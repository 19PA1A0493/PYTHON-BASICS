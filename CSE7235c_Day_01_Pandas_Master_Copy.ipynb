{
  "nbformat": 4,
  "nbformat_minor": 0,
  "metadata": {
    "kernelspec": {
      "display_name": "Python 3",
      "language": "python",
      "name": "python3"
    },
    "language_info": {
      "codemirror_mode": {
        "name": "ipython",
        "version": 3
      },
      "file_extension": ".py",
      "mimetype": "text/x-python",
      "name": "python",
      "nbconvert_exporter": "python",
      "pygments_lexer": "ipython3",
      "version": "3.6.4"
    },
    "varInspector": {
      "cols": {
        "lenName": 16,
        "lenType": 16,
        "lenVar": 40
      },
      "kernels_config": {
        "python": {
          "delete_cmd_postfix": "",
          "delete_cmd_prefix": "del ",
          "library": "var_list.py",
          "varRefreshCmd": "print(var_dic_list())"
        },
        "r": {
          "delete_cmd_postfix": ") ",
          "delete_cmd_prefix": "rm(",
          "library": "var_list.r",
          "varRefreshCmd": "cat(var_dic_list()) "
        }
      },
      "types_to_exclude": [
        "module",
        "function",
        "builtin_function_or_method",
        "instance",
        "_Feature"
      ],
      "window_display": false
    },
    "colab": {
      "name": "CSE7235c_Day_01_Pandas_Master_Copy.ipynb",
      "provenance": [],
      "include_colab_link": true
    }
  },
  "cells": [
    {
      "cell_type": "markdown",
      "metadata": {
        "id": "view-in-github",
        "colab_type": "text"
      },
      "source": [
        "<a href=\"https://colab.research.google.com/github/19PA1A0493/PYTHON-BASICS/blob/master/CSE7235c_Day_01_Pandas_Master_Copy.ipynb\" target=\"_parent\"><img src=\"https://colab.research.google.com/assets/colab-badge.svg\" alt=\"Open In Colab\"/></a>"
      ]
    },
    {
      "cell_type": "markdown",
      "metadata": {
        "id": "M9lxbJC2Oyv1",
        "colab_type": "text"
      },
      "source": [
        "# <center>**Pandas Introduction**</center>\n",
        "---\n",
        "\n",
        "<br>\n"
      ]
    },
    {
      "cell_type": "markdown",
      "metadata": {
        "collapsed": true,
        "id": "0PXLCycoOyv6",
        "colab_type": "text"
      },
      "source": [
        "## **Pandas DataFrame**\n"
      ]
    },
    {
      "cell_type": "code",
      "metadata": {
        "id": "5-zqyryNOyv9",
        "colab_type": "code",
        "colab": {}
      },
      "source": [
        "# import pandas\n",
        "import pandas as pd"
      ],
      "execution_count": 0,
      "outputs": []
    },
    {
      "cell_type": "markdown",
      "metadata": {
        "id": "p4QiXD8oOywH",
        "colab_type": "text"
      },
      "source": [
        "## **Reading data**"
      ]
    },
    {
      "cell_type": "code",
      "metadata": {
        "id": "we-5nTqAOywK",
        "colab_type": "code",
        "colab": {}
      },
      "source": [
        "# Read data from csv file\n",
        "ipl = pd.read_csv('matches2008-2016.csv')\n",
        "ipl_new = pd.read_csv('matches2017.csv')"
      ],
      "execution_count": 0,
      "outputs": []
    },
    {
      "cell_type": "code",
      "metadata": {
        "id": "fR7pu6-qOywQ",
        "colab_type": "code",
        "colab": {
          "base_uri": "https://localhost:8080/",
          "height": 260
        },
        "outputId": "30462a88-dcb5-4a31-f6de-0f12300090da"
      },
      "source": [
        "print(ipl)\n"
      ],
      "execution_count": 15,
      "outputs": [
        {
          "output_type": "stream",
          "text": [
            "    match_id  season        city  ... venue_id          umpire1          umpire2\n",
            "0     2008_1    2008   Bangalore  ...        7        Asad Rauf      RE Koertzen\n",
            "1     2008_2    2008  Chandigarh  ...        9        MR Benson       SL Shastri\n",
            "2     2008_3    2008       Delhi  ...        2        Aleem Dar   GA Pratapkumar\n",
            "3     2008_4    2008      Mumbai  ...        1         SJ Davis        DJ Harper\n",
            "4     2008_5    2008     Kolkata  ...        3        BF Bowden      K Hariharan\n",
            "..       ...     ...         ...  ...      ...              ...              ...\n",
            "572  2016_56    2016      Raipur  ...       27   A Nand Kishore     BNJ Oxenford\n",
            "573  2016_57    2016   Bangalore  ...        7     AK Chaudhary  HDPK Dharmasena\n",
            "574  2016_58    2016       Delhi  ...        2        M Erasmus    C Shamshuddin\n",
            "575  2016_59    2016       Delhi  ...        2        M Erasmus        CK Nandan\n",
            "576  2016_60    2016   Bangalore  ...        7  HDPK Dharmasena     BNJ Oxenford\n",
            "\n",
            "[577 rows x 19 columns]\n"
          ],
          "name": "stdout"
        }
      ]
    },
    {
      "cell_type": "markdown",
      "metadata": {
        "id": "LSDLq2XpOywX",
        "colab_type": "text"
      },
      "source": [
        "## **Checking data dimensions**\n",
        "- use the shape method on data frame to get the dimensions"
      ]
    },
    {
      "cell_type": "code",
      "metadata": {
        "id": "F9gaOuerOywZ",
        "colab_type": "code",
        "colab": {
          "base_uri": "https://localhost:8080/",
          "height": 52
        },
        "outputId": "8378cf15-4dd6-458d-8ed2-e44cba8533d1"
      },
      "source": [
        "print(ipl.shape)\n",
        "print(ipl_new.shape)"
      ],
      "execution_count": 16,
      "outputs": [
        {
          "output_type": "stream",
          "text": [
            "(577, 19)\n",
            "(59, 19)\n"
          ],
          "name": "stdout"
        }
      ]
    },
    {
      "cell_type": "markdown",
      "metadata": {
        "id": "ryNljpc3Oywf",
        "colab_type": "text"
      },
      "source": [
        "## **Appending DataFrame**\n",
        "- We need to append new matches data to the old data using append method"
      ]
    },
    {
      "cell_type": "code",
      "metadata": {
        "id": "bQ9ytN3-Oywh",
        "colab_type": "code",
        "colab": {
          "base_uri": "https://localhost:8080/",
          "height": 260
        },
        "outputId": "6831b48f-c418-4253-8cf0-63f0e7161288"
      },
      "source": [
        "ipl_final = ipl.copy()             # Explicitly creating a copy of ipl. Just to make sure you don't modify your original data\n",
        "ipl_final = ipl_final.append(ipl_new)\n",
        "print(ipl_final)"
      ],
      "execution_count": 28,
      "outputs": [
        {
          "output_type": "stream",
          "text": [
            "   match_id  season        city  ... venue_id       umpire1         umpire2\n",
            "0    2008_1    2008   Bangalore  ...        7     Asad Rauf     RE Koertzen\n",
            "1    2008_2    2008  Chandigarh  ...        9     MR Benson      SL Shastri\n",
            "2    2008_3    2008       Delhi  ...        2     Aleem Dar  GA Pratapkumar\n",
            "3    2008_4    2008      Mumbai  ...        1      SJ Davis       DJ Harper\n",
            "4    2008_5    2008     Kolkata  ...        3     BF Bowden     K Hariharan\n",
            "..      ...     ...         ...  ...      ...           ...             ...\n",
            "54  2017_55    2017       Delhi  ...        2     CK Nandan   C Shamshuddin\n",
            "55  2017_56    2017      Mumbai  ...        1        S Ravi   C Shamshuddin\n",
            "56  2017_57    2017   Bangalore  ...        7  AK Chaudhary     Nitin Menon\n",
            "57  2017_58    2017   Bangalore  ...        7      NJ Llong     Nitin Menon\n",
            "58  2017_59    2017   Hyderabad  ...        4      NJ Llong          S Ravi\n",
            "\n",
            "[636 rows x 19 columns]\n"
          ],
          "name": "stdout"
        }
      ]
    },
    {
      "cell_type": "markdown",
      "metadata": {
        "id": "CgYm7gxBOywm",
        "colab_type": "text"
      },
      "source": [
        "## **Data Inspection**"
      ]
    },
    {
      "cell_type": "code",
      "metadata": {
        "id": "_-1TpwjqOywn",
        "colab_type": "code",
        "colab": {
          "base_uri": "https://localhost:8080/",
          "height": 34
        },
        "outputId": "3d58fa57-4b78-41e3-c15f-4c8056d2f3d8"
      },
      "source": [
        "## .shape gives dimentions of Data\n",
        "print(ipl_final.shape)                            # dim() in R - Dimentions of data"
      ],
      "execution_count": 34,
      "outputs": [
        {
          "output_type": "stream",
          "text": [
            "(636, 19)\n"
          ],
          "name": "stdout"
        }
      ]
    },
    {
      "cell_type": "code",
      "metadata": {
        "id": "pIPqr82MOywt",
        "colab_type": "code",
        "colab": {
          "base_uri": "https://localhost:8080/",
          "height": 386
        },
        "outputId": "b5bf3359-ebd3-4dda-848f-8615b03c7d03"
      },
      "source": [
        "## Getting top 3 rows usig head method\n",
        "ipl_final.head(4)\n"
      ],
      "execution_count": 37,
      "outputs": [
        {
          "output_type": "execute_result",
          "data": {
            "text/html": [
              "<div>\n",
              "<style scoped>\n",
              "    .dataframe tbody tr th:only-of-type {\n",
              "        vertical-align: middle;\n",
              "    }\n",
              "\n",
              "    .dataframe tbody tr th {\n",
              "        vertical-align: top;\n",
              "    }\n",
              "\n",
              "    .dataframe thead th {\n",
              "        text-align: right;\n",
              "    }\n",
              "</style>\n",
              "<table border=\"1\" class=\"dataframe\">\n",
              "  <thead>\n",
              "    <tr style=\"text-align: right;\">\n",
              "      <th></th>\n",
              "      <th>match_id</th>\n",
              "      <th>season</th>\n",
              "      <th>city</th>\n",
              "      <th>date</th>\n",
              "      <th>team1_id</th>\n",
              "      <th>team2_id</th>\n",
              "      <th>toss_winner</th>\n",
              "      <th>toss_decision</th>\n",
              "      <th>result</th>\n",
              "      <th>dl_applied</th>\n",
              "      <th>winner</th>\n",
              "      <th>win_by_runs</th>\n",
              "      <th>win_by_wickets</th>\n",
              "      <th>player_of_match</th>\n",
              "      <th>player_of_match_id</th>\n",
              "      <th>venue</th>\n",
              "      <th>venue_id</th>\n",
              "      <th>umpire1</th>\n",
              "      <th>umpire2</th>\n",
              "    </tr>\n",
              "  </thead>\n",
              "  <tbody>\n",
              "    <tr>\n",
              "      <th>0</th>\n",
              "      <td>2008_1</td>\n",
              "      <td>2008</td>\n",
              "      <td>Bangalore</td>\n",
              "      <td>18-04-2008</td>\n",
              "      <td>KKR</td>\n",
              "      <td>RCB</td>\n",
              "      <td>RCB</td>\n",
              "      <td>field</td>\n",
              "      <td>normal</td>\n",
              "      <td>0</td>\n",
              "      <td>KKR</td>\n",
              "      <td>140</td>\n",
              "      <td>0</td>\n",
              "      <td>Brendon McCullum</td>\n",
              "      <td>82.0</td>\n",
              "      <td>M.Chinnaswamy Stadium Bengaluru, Karnataka</td>\n",
              "      <td>7</td>\n",
              "      <td>Asad Rauf</td>\n",
              "      <td>RE Koertzen</td>\n",
              "    </tr>\n",
              "    <tr>\n",
              "      <th>1</th>\n",
              "      <td>2008_2</td>\n",
              "      <td>2008</td>\n",
              "      <td>Chandigarh</td>\n",
              "      <td>19-04-2008</td>\n",
              "      <td>CSK</td>\n",
              "      <td>KXI</td>\n",
              "      <td>CSK</td>\n",
              "      <td>bat</td>\n",
              "      <td>normal</td>\n",
              "      <td>0</td>\n",
              "      <td>CSK</td>\n",
              "      <td>33</td>\n",
              "      <td>0</td>\n",
              "      <td>Michael Hussey</td>\n",
              "      <td>18.0</td>\n",
              "      <td>I.S. Bindra Punjab Cricket Association Stadium...</td>\n",
              "      <td>9</td>\n",
              "      <td>MR Benson</td>\n",
              "      <td>SL Shastri</td>\n",
              "    </tr>\n",
              "    <tr>\n",
              "      <th>2</th>\n",
              "      <td>2008_3</td>\n",
              "      <td>2008</td>\n",
              "      <td>Delhi</td>\n",
              "      <td>19-04-2008</td>\n",
              "      <td>RR</td>\n",
              "      <td>DD</td>\n",
              "      <td>RR</td>\n",
              "      <td>bat</td>\n",
              "      <td>normal</td>\n",
              "      <td>0</td>\n",
              "      <td>DD</td>\n",
              "      <td>0</td>\n",
              "      <td>9</td>\n",
              "      <td>Farveez Maharoof</td>\n",
              "      <td>60.0</td>\n",
              "      <td>Feroz Shah Kotla Stadium, Delhi</td>\n",
              "      <td>2</td>\n",
              "      <td>Aleem Dar</td>\n",
              "      <td>GA Pratapkumar</td>\n",
              "    </tr>\n",
              "    <tr>\n",
              "      <th>3</th>\n",
              "      <td>2008_4</td>\n",
              "      <td>2008</td>\n",
              "      <td>Mumbai</td>\n",
              "      <td>20-04-2008</td>\n",
              "      <td>MI</td>\n",
              "      <td>RCB</td>\n",
              "      <td>MI</td>\n",
              "      <td>bat</td>\n",
              "      <td>normal</td>\n",
              "      <td>0</td>\n",
              "      <td>RCB</td>\n",
              "      <td>0</td>\n",
              "      <td>5</td>\n",
              "      <td>Mark Boucher</td>\n",
              "      <td>145.0</td>\n",
              "      <td>Wankhede Stadium, Mumbai, Maharashtra</td>\n",
              "      <td>1</td>\n",
              "      <td>SJ Davis</td>\n",
              "      <td>DJ Harper</td>\n",
              "    </tr>\n",
              "  </tbody>\n",
              "</table>\n",
              "</div>"
            ],
            "text/plain": [
              "  match_id  season        city  ... venue_id    umpire1         umpire2\n",
              "0   2008_1    2008   Bangalore  ...        7  Asad Rauf     RE Koertzen\n",
              "1   2008_2    2008  Chandigarh  ...        9  MR Benson      SL Shastri\n",
              "2   2008_3    2008       Delhi  ...        2  Aleem Dar  GA Pratapkumar\n",
              "3   2008_4    2008      Mumbai  ...        1   SJ Davis       DJ Harper\n",
              "\n",
              "[4 rows x 19 columns]"
            ]
          },
          "metadata": {
            "tags": []
          },
          "execution_count": 37
        }
      ]
    },
    {
      "cell_type": "code",
      "metadata": {
        "id": "4TiI7h7JOywy",
        "colab_type": "code",
        "colab": {
          "base_uri": "https://localhost:8080/",
          "height": 104
        },
        "outputId": "eb178784-e8c6-4f53-8ea7-d681e4d3fb10"
      },
      "source": [
        "## .columns gives column names\n",
        "print(ipl_final.columns)                          # colnames() in R - Column Namesprint(list(df.index)[:10])"
      ],
      "execution_count": 27,
      "outputs": [
        {
          "output_type": "stream",
          "text": [
            "Index(['match_id', 'season', 'city', 'date', 'team1_id', 'team2_id',\n",
            "       'toss_winner', 'toss_decision', 'result', 'dl_applied', 'winner',\n",
            "       'win_by_runs', 'win_by_wickets', 'player_of_match',\n",
            "       'player_of_match_id', 'venue', 'venue_id', 'umpire1', 'umpire2'],\n",
            "      dtype='object')\n"
          ],
          "name": "stdout"
        }
      ]
    },
    {
      "cell_type": "code",
      "metadata": {
        "id": "pcUltiRhOyw3",
        "colab_type": "code",
        "colab": {},
        "outputId": "3c0ceeab-1625-4a4b-cfbd-46b70594b551"
      },
      "source": [
        "## .dtypes gives data types for each column\n",
        "print(ipl_final.dtypes)                           # str() in R - Data types"
      ],
      "execution_count": 0,
      "outputs": [
        {
          "output_type": "stream",
          "text": [
            "match_id               object\n",
            "season                  int64\n",
            "city                   object\n",
            "date                   object\n",
            "team1_id               object\n",
            "team2_id               object\n",
            "toss_winner            object\n",
            "toss_decision          object\n",
            "result                 object\n",
            "dl_applied              int64\n",
            "winner                 object\n",
            "win_by_runs             int64\n",
            "win_by_wickets          int64\n",
            "player_of_match        object\n",
            "player_of_match_id    float64\n",
            "venue                  object\n",
            "venue_id                int64\n",
            "umpire1                object\n",
            "umpire2                object\n",
            "dtype: object\n"
          ],
          "name": "stdout"
        }
      ]
    },
    {
      "cell_type": "markdown",
      "metadata": {
        "id": "CPMSQ2gwOyw9",
        "colab_type": "text"
      },
      "source": [
        "<br><br>\n",
        "## **Seting match_id as row index** (rarely used)"
      ]
    },
    {
      "cell_type": "code",
      "metadata": {
        "id": "ZqGiE2DJOyw-",
        "colab_type": "code",
        "colab": {
          "base_uri": "https://localhost:8080/",
          "height": 306
        },
        "outputId": "7ef987ef-4876-44da-ed55-708f9c6f99a2"
      },
      "source": [
        "ipl_final.set_index(['date'],inplace=True)\n",
        "ipl_final\n"
      ],
      "execution_count": 64,
      "outputs": [
        {
          "output_type": "error",
          "ename": "KeyError",
          "evalue": "ignored",
          "traceback": [
            "\u001b[0;31m---------------------------------------------------------------------------\u001b[0m",
            "\u001b[0;31mKeyError\u001b[0m                                  Traceback (most recent call last)",
            "\u001b[0;32m<ipython-input-64-715bf86221eb>\u001b[0m in \u001b[0;36m<module>\u001b[0;34m()\u001b[0m\n\u001b[0;32m----> 1\u001b[0;31m \u001b[0mipl_final\u001b[0m\u001b[0;34m.\u001b[0m\u001b[0mset_index\u001b[0m\u001b[0;34m(\u001b[0m\u001b[0;34m[\u001b[0m\u001b[0;34m'date'\u001b[0m\u001b[0;34m]\u001b[0m\u001b[0;34m,\u001b[0m\u001b[0minplace\u001b[0m\u001b[0;34m=\u001b[0m\u001b[0;32mTrue\u001b[0m\u001b[0;34m)\u001b[0m\u001b[0;34m\u001b[0m\u001b[0;34m\u001b[0m\u001b[0m\n\u001b[0m\u001b[1;32m      2\u001b[0m \u001b[0mipl_final\u001b[0m\u001b[0;34m\u001b[0m\u001b[0;34m\u001b[0m\u001b[0m\n",
            "\u001b[0;32m/usr/local/lib/python3.6/dist-packages/pandas/core/frame.py\u001b[0m in \u001b[0;36mset_index\u001b[0;34m(self, keys, drop, append, inplace, verify_integrity)\u001b[0m\n\u001b[1;32m   4409\u001b[0m \u001b[0;34m\u001b[0m\u001b[0m\n\u001b[1;32m   4410\u001b[0m         \u001b[0;32mif\u001b[0m \u001b[0mmissing\u001b[0m\u001b[0;34m:\u001b[0m\u001b[0;34m\u001b[0m\u001b[0;34m\u001b[0m\u001b[0m\n\u001b[0;32m-> 4411\u001b[0;31m             \u001b[0;32mraise\u001b[0m \u001b[0mKeyError\u001b[0m\u001b[0;34m(\u001b[0m\u001b[0;34m\"None of {} are in the columns\"\u001b[0m\u001b[0;34m.\u001b[0m\u001b[0mformat\u001b[0m\u001b[0;34m(\u001b[0m\u001b[0mmissing\u001b[0m\u001b[0;34m)\u001b[0m\u001b[0;34m)\u001b[0m\u001b[0;34m\u001b[0m\u001b[0;34m\u001b[0m\u001b[0m\n\u001b[0m\u001b[1;32m   4412\u001b[0m \u001b[0;34m\u001b[0m\u001b[0m\n\u001b[1;32m   4413\u001b[0m         \u001b[0;32mif\u001b[0m \u001b[0minplace\u001b[0m\u001b[0;34m:\u001b[0m\u001b[0;34m\u001b[0m\u001b[0;34m\u001b[0m\u001b[0m\n",
            "\u001b[0;31mKeyError\u001b[0m: \"None of ['date'] are in the columns\""
          ]
        }
      ]
    },
    {
      "cell_type": "markdown",
      "metadata": {
        "id": "JK9x9HTnOyxD",
        "colab_type": "text"
      },
      "source": [
        "## **Summary statistics**\n",
        "- using the describe method"
      ]
    },
    {
      "cell_type": "code",
      "metadata": {
        "id": "D9M66H_sOyxE",
        "colab_type": "code",
        "colab": {
          "base_uri": "https://localhost:8080/",
          "height": 300
        },
        "outputId": "6f0f1c74-43fc-476c-fc8e-957196cef40a"
      },
      "source": [
        "ipl_new.describe()"
      ],
      "execution_count": 49,
      "outputs": [
        {
          "output_type": "execute_result",
          "data": {
            "text/html": [
              "<div>\n",
              "<style scoped>\n",
              "    .dataframe tbody tr th:only-of-type {\n",
              "        vertical-align: middle;\n",
              "    }\n",
              "\n",
              "    .dataframe tbody tr th {\n",
              "        vertical-align: top;\n",
              "    }\n",
              "\n",
              "    .dataframe thead th {\n",
              "        text-align: right;\n",
              "    }\n",
              "</style>\n",
              "<table border=\"1\" class=\"dataframe\">\n",
              "  <thead>\n",
              "    <tr style=\"text-align: right;\">\n",
              "      <th></th>\n",
              "      <th>season</th>\n",
              "      <th>dl_applied</th>\n",
              "      <th>win_by_runs</th>\n",
              "      <th>win_by_wickets</th>\n",
              "      <th>player_of_match_id</th>\n",
              "      <th>venue_id</th>\n",
              "    </tr>\n",
              "  </thead>\n",
              "  <tbody>\n",
              "    <tr>\n",
              "      <th>count</th>\n",
              "      <td>59.0</td>\n",
              "      <td>59.000000</td>\n",
              "      <td>59.000000</td>\n",
              "      <td>59.000000</td>\n",
              "      <td>59.000000</td>\n",
              "      <td>59.000000</td>\n",
              "    </tr>\n",
              "    <tr>\n",
              "      <th>mean</th>\n",
              "      <td>2017.0</td>\n",
              "      <td>0.016949</td>\n",
              "      <td>13.355932</td>\n",
              "      <td>3.457627</td>\n",
              "      <td>421.983051</td>\n",
              "      <td>10.983051</td>\n",
              "    </tr>\n",
              "    <tr>\n",
              "      <th>std</th>\n",
              "      <td>0.0</td>\n",
              "      <td>0.130189</td>\n",
              "      <td>26.796656</td>\n",
              "      <td>3.490490</td>\n",
              "      <td>200.205196</td>\n",
              "      <td>12.417301</td>\n",
              "    </tr>\n",
              "    <tr>\n",
              "      <th>min</th>\n",
              "      <td>2017.0</td>\n",
              "      <td>0.000000</td>\n",
              "      <td>0.000000</td>\n",
              "      <td>0.000000</td>\n",
              "      <td>1.000000</td>\n",
              "      <td>1.000000</td>\n",
              "    </tr>\n",
              "    <tr>\n",
              "      <th>25%</th>\n",
              "      <td>2017.0</td>\n",
              "      <td>0.000000</td>\n",
              "      <td>0.000000</td>\n",
              "      <td>0.000000</td>\n",
              "      <td>312.000000</td>\n",
              "      <td>2.500000</td>\n",
              "    </tr>\n",
              "    <tr>\n",
              "      <th>50%</th>\n",
              "      <td>2017.0</td>\n",
              "      <td>0.000000</td>\n",
              "      <td>0.000000</td>\n",
              "      <td>4.000000</td>\n",
              "      <td>484.000000</td>\n",
              "      <td>4.000000</td>\n",
              "    </tr>\n",
              "    <tr>\n",
              "      <th>75%</th>\n",
              "      <td>2017.0</td>\n",
              "      <td>0.000000</td>\n",
              "      <td>15.000000</td>\n",
              "      <td>7.000000</td>\n",
              "      <td>576.500000</td>\n",
              "      <td>9.000000</td>\n",
              "    </tr>\n",
              "    <tr>\n",
              "      <th>max</th>\n",
              "      <td>2017.0</td>\n",
              "      <td>1.000000</td>\n",
              "      <td>146.000000</td>\n",
              "      <td>10.000000</td>\n",
              "      <td>691.000000</td>\n",
              "      <td>34.000000</td>\n",
              "    </tr>\n",
              "  </tbody>\n",
              "</table>\n",
              "</div>"
            ],
            "text/plain": [
              "       season  dl_applied  ...  player_of_match_id   venue_id\n",
              "count    59.0   59.000000  ...           59.000000  59.000000\n",
              "mean   2017.0    0.016949  ...          421.983051  10.983051\n",
              "std       0.0    0.130189  ...          200.205196  12.417301\n",
              "min    2017.0    0.000000  ...            1.000000   1.000000\n",
              "25%    2017.0    0.000000  ...          312.000000   2.500000\n",
              "50%    2017.0    0.000000  ...          484.000000   4.000000\n",
              "75%    2017.0    0.000000  ...          576.500000   9.000000\n",
              "max    2017.0    1.000000  ...          691.000000  34.000000\n",
              "\n",
              "[8 rows x 6 columns]"
            ]
          },
          "metadata": {
            "tags": []
          },
          "execution_count": 49
        }
      ]
    },
    {
      "cell_type": "markdown",
      "metadata": {
        "id": "Ve61kbdLOyxJ",
        "colab_type": "text"
      },
      "source": [
        "## **Dropping columns**\n",
        "- using the drop method"
      ]
    },
    {
      "cell_type": "code",
      "metadata": {
        "id": "OXdYAUKNOyxK",
        "colab_type": "code",
        "colab": {
          "base_uri": "https://localhost:8080/",
          "height": 913
        },
        "outputId": "521c332a-2508-47ca-f941-04f0007526dc"
      },
      "source": [
        "# Dropping Column\n",
        "ipl.drop(['venue_id'], axis=1, inplace=True)    # Axis = 1 for columns\n",
        "\n",
        "ipl"
      ],
      "execution_count": 55,
      "outputs": [
        {
          "output_type": "execute_result",
          "data": {
            "text/html": [
              "<div>\n",
              "<style scoped>\n",
              "    .dataframe tbody tr th:only-of-type {\n",
              "        vertical-align: middle;\n",
              "    }\n",
              "\n",
              "    .dataframe tbody tr th {\n",
              "        vertical-align: top;\n",
              "    }\n",
              "\n",
              "    .dataframe thead th {\n",
              "        text-align: right;\n",
              "    }\n",
              "</style>\n",
              "<table border=\"1\" class=\"dataframe\">\n",
              "  <thead>\n",
              "    <tr style=\"text-align: right;\">\n",
              "      <th></th>\n",
              "      <th>match_id</th>\n",
              "      <th>season</th>\n",
              "      <th>city</th>\n",
              "      <th>date</th>\n",
              "      <th>team1_id</th>\n",
              "      <th>team2_id</th>\n",
              "      <th>toss_winner</th>\n",
              "      <th>toss_decision</th>\n",
              "      <th>result</th>\n",
              "      <th>dl_applied</th>\n",
              "      <th>winner</th>\n",
              "      <th>win_by_runs</th>\n",
              "      <th>win_by_wickets</th>\n",
              "      <th>player_of_match</th>\n",
              "      <th>player_of_match_id</th>\n",
              "      <th>venue</th>\n",
              "      <th>umpire1</th>\n",
              "      <th>umpire2</th>\n",
              "    </tr>\n",
              "  </thead>\n",
              "  <tbody>\n",
              "    <tr>\n",
              "      <th>0</th>\n",
              "      <td>2008_1</td>\n",
              "      <td>2008</td>\n",
              "      <td>Bangalore</td>\n",
              "      <td>18-04-2008</td>\n",
              "      <td>KKR</td>\n",
              "      <td>RCB</td>\n",
              "      <td>RCB</td>\n",
              "      <td>field</td>\n",
              "      <td>normal</td>\n",
              "      <td>0</td>\n",
              "      <td>KKR</td>\n",
              "      <td>140</td>\n",
              "      <td>0</td>\n",
              "      <td>Brendon McCullum</td>\n",
              "      <td>82.0</td>\n",
              "      <td>M.Chinnaswamy Stadium Bengaluru, Karnataka</td>\n",
              "      <td>Asad Rauf</td>\n",
              "      <td>RE Koertzen</td>\n",
              "    </tr>\n",
              "    <tr>\n",
              "      <th>1</th>\n",
              "      <td>2008_2</td>\n",
              "      <td>2008</td>\n",
              "      <td>Chandigarh</td>\n",
              "      <td>19-04-2008</td>\n",
              "      <td>CSK</td>\n",
              "      <td>KXI</td>\n",
              "      <td>CSK</td>\n",
              "      <td>bat</td>\n",
              "      <td>normal</td>\n",
              "      <td>0</td>\n",
              "      <td>CSK</td>\n",
              "      <td>33</td>\n",
              "      <td>0</td>\n",
              "      <td>Michael Hussey</td>\n",
              "      <td>18.0</td>\n",
              "      <td>I.S. Bindra Punjab Cricket Association Stadium...</td>\n",
              "      <td>MR Benson</td>\n",
              "      <td>SL Shastri</td>\n",
              "    </tr>\n",
              "    <tr>\n",
              "      <th>2</th>\n",
              "      <td>2008_3</td>\n",
              "      <td>2008</td>\n",
              "      <td>Delhi</td>\n",
              "      <td>19-04-2008</td>\n",
              "      <td>RR</td>\n",
              "      <td>DD</td>\n",
              "      <td>RR</td>\n",
              "      <td>bat</td>\n",
              "      <td>normal</td>\n",
              "      <td>0</td>\n",
              "      <td>DD</td>\n",
              "      <td>0</td>\n",
              "      <td>9</td>\n",
              "      <td>Farveez Maharoof</td>\n",
              "      <td>60.0</td>\n",
              "      <td>Feroz Shah Kotla Stadium, Delhi</td>\n",
              "      <td>Aleem Dar</td>\n",
              "      <td>GA Pratapkumar</td>\n",
              "    </tr>\n",
              "    <tr>\n",
              "      <th>3</th>\n",
              "      <td>2008_4</td>\n",
              "      <td>2008</td>\n",
              "      <td>Mumbai</td>\n",
              "      <td>20-04-2008</td>\n",
              "      <td>MI</td>\n",
              "      <td>RCB</td>\n",
              "      <td>MI</td>\n",
              "      <td>bat</td>\n",
              "      <td>normal</td>\n",
              "      <td>0</td>\n",
              "      <td>RCB</td>\n",
              "      <td>0</td>\n",
              "      <td>5</td>\n",
              "      <td>Mark Boucher</td>\n",
              "      <td>145.0</td>\n",
              "      <td>Wankhede Stadium, Mumbai, Maharashtra</td>\n",
              "      <td>SJ Davis</td>\n",
              "      <td>DJ Harper</td>\n",
              "    </tr>\n",
              "    <tr>\n",
              "      <th>4</th>\n",
              "      <td>2008_5</td>\n",
              "      <td>2008</td>\n",
              "      <td>Kolkata</td>\n",
              "      <td>20-04-2008</td>\n",
              "      <td>DC</td>\n",
              "      <td>KKR</td>\n",
              "      <td>DC</td>\n",
              "      <td>bat</td>\n",
              "      <td>normal</td>\n",
              "      <td>0</td>\n",
              "      <td>KKR</td>\n",
              "      <td>0</td>\n",
              "      <td>5</td>\n",
              "      <td>David Hussey</td>\n",
              "      <td>80.0</td>\n",
              "      <td>Eden Garden Stadium, Kolkata, West Bengal</td>\n",
              "      <td>BF Bowden</td>\n",
              "      <td>K Hariharan</td>\n",
              "    </tr>\n",
              "    <tr>\n",
              "      <th>...</th>\n",
              "      <td>...</td>\n",
              "      <td>...</td>\n",
              "      <td>...</td>\n",
              "      <td>...</td>\n",
              "      <td>...</td>\n",
              "      <td>...</td>\n",
              "      <td>...</td>\n",
              "      <td>...</td>\n",
              "      <td>...</td>\n",
              "      <td>...</td>\n",
              "      <td>...</td>\n",
              "      <td>...</td>\n",
              "      <td>...</td>\n",
              "      <td>...</td>\n",
              "      <td>...</td>\n",
              "      <td>...</td>\n",
              "      <td>...</td>\n",
              "      <td>...</td>\n",
              "    </tr>\n",
              "    <tr>\n",
              "      <th>572</th>\n",
              "      <td>2016_56</td>\n",
              "      <td>2016</td>\n",
              "      <td>Raipur</td>\n",
              "      <td>22-05-2016</td>\n",
              "      <td>DD</td>\n",
              "      <td>RCB</td>\n",
              "      <td>RCB</td>\n",
              "      <td>field</td>\n",
              "      <td>normal</td>\n",
              "      <td>0</td>\n",
              "      <td>RCB</td>\n",
              "      <td>0</td>\n",
              "      <td>6</td>\n",
              "      <td>Virat Kohli</td>\n",
              "      <td>149.0</td>\n",
              "      <td>Shaheed Veer Narayan Singh International Stadium</td>\n",
              "      <td>A Nand Kishore</td>\n",
              "      <td>BNJ Oxenford</td>\n",
              "    </tr>\n",
              "    <tr>\n",
              "      <th>573</th>\n",
              "      <td>2016_57</td>\n",
              "      <td>2016</td>\n",
              "      <td>Bangalore</td>\n",
              "      <td>24-05-2016</td>\n",
              "      <td>GL</td>\n",
              "      <td>RCB</td>\n",
              "      <td>RCB</td>\n",
              "      <td>field</td>\n",
              "      <td>normal</td>\n",
              "      <td>0</td>\n",
              "      <td>RCB</td>\n",
              "      <td>0</td>\n",
              "      <td>4</td>\n",
              "      <td>AB De Villiers</td>\n",
              "      <td>47.0</td>\n",
              "      <td>M.Chinnaswamy Stadium Bengaluru, Karnataka</td>\n",
              "      <td>AK Chaudhary</td>\n",
              "      <td>HDPK Dharmasena</td>\n",
              "    </tr>\n",
              "    <tr>\n",
              "      <th>574</th>\n",
              "      <td>2016_58</td>\n",
              "      <td>2016</td>\n",
              "      <td>Delhi</td>\n",
              "      <td>25-05-2016</td>\n",
              "      <td>SRH</td>\n",
              "      <td>KKR</td>\n",
              "      <td>KKR</td>\n",
              "      <td>field</td>\n",
              "      <td>normal</td>\n",
              "      <td>0</td>\n",
              "      <td>SRH</td>\n",
              "      <td>22</td>\n",
              "      <td>0</td>\n",
              "      <td>Moises Henriques</td>\n",
              "      <td>212.0</td>\n",
              "      <td>Feroz Shah Kotla Stadium, Delhi</td>\n",
              "      <td>M Erasmus</td>\n",
              "      <td>C Shamshuddin</td>\n",
              "    </tr>\n",
              "    <tr>\n",
              "      <th>575</th>\n",
              "      <td>2016_59</td>\n",
              "      <td>2016</td>\n",
              "      <td>Delhi</td>\n",
              "      <td>27-05-2016</td>\n",
              "      <td>GL</td>\n",
              "      <td>SRH</td>\n",
              "      <td>SRH</td>\n",
              "      <td>field</td>\n",
              "      <td>normal</td>\n",
              "      <td>0</td>\n",
              "      <td>SRH</td>\n",
              "      <td>0</td>\n",
              "      <td>4</td>\n",
              "      <td>David Warner</td>\n",
              "      <td>207.0</td>\n",
              "      <td>Feroz Shah Kotla Stadium, Delhi</td>\n",
              "      <td>M Erasmus</td>\n",
              "      <td>CK Nandan</td>\n",
              "    </tr>\n",
              "    <tr>\n",
              "      <th>576</th>\n",
              "      <td>2016_60</td>\n",
              "      <td>2016</td>\n",
              "      <td>Bangalore</td>\n",
              "      <td>29-05-2016</td>\n",
              "      <td>SRH</td>\n",
              "      <td>RCB</td>\n",
              "      <td>SRH</td>\n",
              "      <td>bat</td>\n",
              "      <td>normal</td>\n",
              "      <td>0</td>\n",
              "      <td>SRH</td>\n",
              "      <td>8</td>\n",
              "      <td>0</td>\n",
              "      <td>Ben Cutting</td>\n",
              "      <td>526.0</td>\n",
              "      <td>M.Chinnaswamy Stadium Bengaluru, Karnataka</td>\n",
              "      <td>HDPK Dharmasena</td>\n",
              "      <td>BNJ Oxenford</td>\n",
              "    </tr>\n",
              "  </tbody>\n",
              "</table>\n",
              "<p>577 rows × 18 columns</p>\n",
              "</div>"
            ],
            "text/plain": [
              "    match_id  season  ...          umpire1          umpire2\n",
              "0     2008_1    2008  ...        Asad Rauf      RE Koertzen\n",
              "1     2008_2    2008  ...        MR Benson       SL Shastri\n",
              "2     2008_3    2008  ...        Aleem Dar   GA Pratapkumar\n",
              "3     2008_4    2008  ...         SJ Davis        DJ Harper\n",
              "4     2008_5    2008  ...        BF Bowden      K Hariharan\n",
              "..       ...     ...  ...              ...              ...\n",
              "572  2016_56    2016  ...   A Nand Kishore     BNJ Oxenford\n",
              "573  2016_57    2016  ...     AK Chaudhary  HDPK Dharmasena\n",
              "574  2016_58    2016  ...        M Erasmus    C Shamshuddin\n",
              "575  2016_59    2016  ...        M Erasmus        CK Nandan\n",
              "576  2016_60    2016  ...  HDPK Dharmasena     BNJ Oxenford\n",
              "\n",
              "[577 rows x 18 columns]"
            ]
          },
          "metadata": {
            "tags": []
          },
          "execution_count": 55
        }
      ]
    },
    {
      "cell_type": "markdown",
      "metadata": {
        "id": "_DN2aKlcOyxP",
        "colab_type": "text"
      },
      "source": [
        "## **Dropping row**"
      ]
    },
    {
      "cell_type": "code",
      "metadata": {
        "id": "eATtoUJUOyxR",
        "colab_type": "code",
        "colab": {},
        "outputId": "97435f9a-ff42-4395-a185-38a93fe360b2"
      },
      "source": [
        "# Dropping rows\n",
        "ipl_final.drop(['2008_1','2009_1','2010_1'], axis=0, inplace=True)  # axis = 0 for rows and axis=1 for columns\n",
        "\n",
        "ipl.head(3)"
      ],
      "execution_count": 0,
      "outputs": [
        {
          "output_type": "execute_result",
          "data": {
            "text/html": [
              "<div>\n",
              "<style scoped>\n",
              "    .dataframe tbody tr th:only-of-type {\n",
              "        vertical-align: middle;\n",
              "    }\n",
              "\n",
              "    .dataframe tbody tr th {\n",
              "        vertical-align: top;\n",
              "    }\n",
              "\n",
              "    .dataframe thead th {\n",
              "        text-align: right;\n",
              "    }\n",
              "</style>\n",
              "<table border=\"1\" class=\"dataframe\">\n",
              "  <thead>\n",
              "    <tr style=\"text-align: right;\">\n",
              "      <th></th>\n",
              "      <th>match_id</th>\n",
              "      <th>season</th>\n",
              "      <th>city</th>\n",
              "      <th>date</th>\n",
              "      <th>team1_id</th>\n",
              "      <th>team2_id</th>\n",
              "      <th>toss_winner</th>\n",
              "      <th>toss_decision</th>\n",
              "      <th>result</th>\n",
              "      <th>dl_applied</th>\n",
              "      <th>winner</th>\n",
              "      <th>win_by_runs</th>\n",
              "      <th>win_by_wickets</th>\n",
              "      <th>player_of_match</th>\n",
              "      <th>player_of_match_id</th>\n",
              "      <th>venue</th>\n",
              "      <th>venue_id</th>\n",
              "      <th>umpire1</th>\n",
              "      <th>umpire2</th>\n",
              "    </tr>\n",
              "  </thead>\n",
              "  <tbody>\n",
              "    <tr>\n",
              "      <th>0</th>\n",
              "      <td>2008_1</td>\n",
              "      <td>2008</td>\n",
              "      <td>Bangalore</td>\n",
              "      <td>18-04-2008</td>\n",
              "      <td>KKR</td>\n",
              "      <td>RCB</td>\n",
              "      <td>RCB</td>\n",
              "      <td>field</td>\n",
              "      <td>normal</td>\n",
              "      <td>0</td>\n",
              "      <td>KKR</td>\n",
              "      <td>140</td>\n",
              "      <td>0</td>\n",
              "      <td>Brendon McCullum</td>\n",
              "      <td>82.0</td>\n",
              "      <td>M.Chinnaswamy Stadium Bengaluru, Karnataka</td>\n",
              "      <td>7</td>\n",
              "      <td>Asad Rauf</td>\n",
              "      <td>RE Koertzen</td>\n",
              "    </tr>\n",
              "    <tr>\n",
              "      <th>1</th>\n",
              "      <td>2008_2</td>\n",
              "      <td>2008</td>\n",
              "      <td>Chandigarh</td>\n",
              "      <td>19-04-2008</td>\n",
              "      <td>CSK</td>\n",
              "      <td>KXI</td>\n",
              "      <td>CSK</td>\n",
              "      <td>bat</td>\n",
              "      <td>normal</td>\n",
              "      <td>0</td>\n",
              "      <td>CSK</td>\n",
              "      <td>33</td>\n",
              "      <td>0</td>\n",
              "      <td>Michael Hussey</td>\n",
              "      <td>18.0</td>\n",
              "      <td>I.S. Bindra Punjab Cricket Association Stadium...</td>\n",
              "      <td>9</td>\n",
              "      <td>MR Benson</td>\n",
              "      <td>SL Shastri</td>\n",
              "    </tr>\n",
              "    <tr>\n",
              "      <th>2</th>\n",
              "      <td>2008_3</td>\n",
              "      <td>2008</td>\n",
              "      <td>Delhi</td>\n",
              "      <td>19-04-2008</td>\n",
              "      <td>RR</td>\n",
              "      <td>DD</td>\n",
              "      <td>RR</td>\n",
              "      <td>bat</td>\n",
              "      <td>normal</td>\n",
              "      <td>0</td>\n",
              "      <td>DD</td>\n",
              "      <td>0</td>\n",
              "      <td>9</td>\n",
              "      <td>Farveez Maharoof</td>\n",
              "      <td>60.0</td>\n",
              "      <td>Feroz Shah Kotla Stadium, Delhi</td>\n",
              "      <td>2</td>\n",
              "      <td>Aleem Dar</td>\n",
              "      <td>GA Pratapkumar</td>\n",
              "    </tr>\n",
              "  </tbody>\n",
              "</table>\n",
              "</div>"
            ],
            "text/plain": [
              "  match_id  season        city        date team1_id team2_id toss_winner  \\\n",
              "0   2008_1    2008   Bangalore  18-04-2008      KKR      RCB         RCB   \n",
              "1   2008_2    2008  Chandigarh  19-04-2008      CSK      KXI         CSK   \n",
              "2   2008_3    2008       Delhi  19-04-2008       RR       DD          RR   \n",
              "\n",
              "  toss_decision  result  dl_applied winner  win_by_runs  win_by_wickets  \\\n",
              "0         field  normal           0    KKR          140               0   \n",
              "1           bat  normal           0    CSK           33               0   \n",
              "2           bat  normal           0     DD            0               9   \n",
              "\n",
              "    player_of_match  player_of_match_id  \\\n",
              "0  Brendon McCullum                82.0   \n",
              "1    Michael Hussey                18.0   \n",
              "2  Farveez Maharoof                60.0   \n",
              "\n",
              "                                               venue  venue_id    umpire1  \\\n",
              "0         M.Chinnaswamy Stadium Bengaluru, Karnataka         7  Asad Rauf   \n",
              "1  I.S. Bindra Punjab Cricket Association Stadium...         9  MR Benson   \n",
              "2                    Feroz Shah Kotla Stadium, Delhi         2  Aleem Dar   \n",
              "\n",
              "          umpire2  \n",
              "0     RE Koertzen  \n",
              "1      SL Shastri  \n",
              "2  GA Pratapkumar  "
            ]
          },
          "metadata": {
            "tags": []
          },
          "execution_count": 12
        }
      ]
    },
    {
      "cell_type": "markdown",
      "metadata": {
        "id": "0T8iyqPvOyxU",
        "colab_type": "text"
      },
      "source": [
        "## **Frequency distribution**\n",
        "- using method value_counts for getting the distribution of values for categories"
      ]
    },
    {
      "cell_type": "code",
      "metadata": {
        "id": "T-vEY0esOyxX",
        "colab_type": "code",
        "colab": {
          "base_uri": "https://localhost:8080/",
          "height": 260
        },
        "outputId": "5bb710cf-a399-48f4-84b7-c7b62e09662f"
      },
      "source": [
        "ipl_final['toss_winner'].value_counts()       # table() in R - Frequency count"
      ],
      "execution_count": 69,
      "outputs": [
        {
          "output_type": "execute_result",
          "data": {
            "text/plain": [
              "MI     85\n",
              "KKR    78\n",
              "DD     72\n",
              "RCB    70\n",
              "KXI    68\n",
              "CSK    66\n",
              "RR     63\n",
              "DC     43\n",
              "SRH    35\n",
              "PW     20\n",
              "GL     15\n",
              "RPS    13\n",
              "KTK     8\n",
              "Name: toss_winner, dtype: int64"
            ]
          },
          "metadata": {
            "tags": []
          },
          "execution_count": 69
        }
      ]
    },
    {
      "cell_type": "markdown",
      "metadata": {
        "id": "IyPI1uNDOyxa",
        "colab_type": "text"
      },
      "source": [
        "## **loc (to subset data by Row/Column labels)**"
      ]
    },
    {
      "cell_type": "code",
      "metadata": {
        "id": "Rsy7MOjoOyxc",
        "colab_type": "code",
        "colab": {
          "base_uri": "https://localhost:8080/",
          "height": 175
        },
        "outputId": "e579a97d-5d73-4f84-89a7-8ccb0fbcf2ac"
      },
      "source": [
        "## Label based indexing make more sense for column subsetting\n",
        "#Select only venue and winner columns\n",
        "subset1 = ipl_final.loc[:,['venue','winner']]\n",
        "subset1.head(3)"
      ],
      "execution_count": 71,
      "outputs": [
        {
          "output_type": "execute_result",
          "data": {
            "text/html": [
              "<div>\n",
              "<style scoped>\n",
              "    .dataframe tbody tr th:only-of-type {\n",
              "        vertical-align: middle;\n",
              "    }\n",
              "\n",
              "    .dataframe tbody tr th {\n",
              "        vertical-align: top;\n",
              "    }\n",
              "\n",
              "    .dataframe thead th {\n",
              "        text-align: right;\n",
              "    }\n",
              "</style>\n",
              "<table border=\"1\" class=\"dataframe\">\n",
              "  <thead>\n",
              "    <tr style=\"text-align: right;\">\n",
              "      <th></th>\n",
              "      <th>venue</th>\n",
              "      <th>winner</th>\n",
              "    </tr>\n",
              "    <tr>\n",
              "      <th>date</th>\n",
              "      <th></th>\n",
              "      <th></th>\n",
              "    </tr>\n",
              "  </thead>\n",
              "  <tbody>\n",
              "    <tr>\n",
              "      <th>18-04-2008</th>\n",
              "      <td>M.Chinnaswamy Stadium Bengaluru, Karnataka</td>\n",
              "      <td>KKR</td>\n",
              "    </tr>\n",
              "    <tr>\n",
              "      <th>19-04-2008</th>\n",
              "      <td>I.S. Bindra Punjab Cricket Association Stadium...</td>\n",
              "      <td>CSK</td>\n",
              "    </tr>\n",
              "    <tr>\n",
              "      <th>19-04-2008</th>\n",
              "      <td>Feroz Shah Kotla Stadium, Delhi</td>\n",
              "      <td>DD</td>\n",
              "    </tr>\n",
              "  </tbody>\n",
              "</table>\n",
              "</div>"
            ],
            "text/plain": [
              "                                                        venue winner\n",
              "date                                                                \n",
              "18-04-2008         M.Chinnaswamy Stadium Bengaluru, Karnataka    KKR\n",
              "19-04-2008  I.S. Bindra Punjab Cricket Association Stadium...    CSK\n",
              "19-04-2008                    Feroz Shah Kotla Stadium, Delhi     DD"
            ]
          },
          "metadata": {
            "tags": []
          },
          "execution_count": 71
        }
      ]
    },
    {
      "cell_type": "code",
      "metadata": {
        "id": "ETLck9BaOyxf",
        "colab_type": "code",
        "colab": {},
        "outputId": "23323347-0816-4b71-edbc-9260187d4526"
      },
      "source": [
        "## For loc based subsetting using row and column indexer together is rare.\n",
        "subset2 = ipl_final.loc[['2008_2','2009_2','2010_2',],['venue','winner']]\n",
        "subset2.head(3)"
      ],
      "execution_count": 0,
      "outputs": [
        {
          "output_type": "execute_result",
          "data": {
            "text/html": [
              "<div>\n",
              "<style scoped>\n",
              "    .dataframe tbody tr th:only-of-type {\n",
              "        vertical-align: middle;\n",
              "    }\n",
              "\n",
              "    .dataframe tbody tr th {\n",
              "        vertical-align: top;\n",
              "    }\n",
              "\n",
              "    .dataframe thead th {\n",
              "        text-align: right;\n",
              "    }\n",
              "</style>\n",
              "<table border=\"1\" class=\"dataframe\">\n",
              "  <thead>\n",
              "    <tr style=\"text-align: right;\">\n",
              "      <th></th>\n",
              "      <th>venue</th>\n",
              "      <th>winner</th>\n",
              "    </tr>\n",
              "    <tr>\n",
              "      <th>match_id</th>\n",
              "      <th></th>\n",
              "      <th></th>\n",
              "    </tr>\n",
              "  </thead>\n",
              "  <tbody>\n",
              "    <tr>\n",
              "      <th>2008_2</th>\n",
              "      <td>I.S. Bindra Punjab Cricket Association Stadium...</td>\n",
              "      <td>CSK</td>\n",
              "    </tr>\n",
              "    <tr>\n",
              "      <th>2009_2</th>\n",
              "      <td>Newlands</td>\n",
              "      <td>RCB</td>\n",
              "    </tr>\n",
              "    <tr>\n",
              "      <th>2010_2</th>\n",
              "      <td>Brabourne Stadium</td>\n",
              "      <td>MI</td>\n",
              "    </tr>\n",
              "  </tbody>\n",
              "</table>\n",
              "</div>"
            ],
            "text/plain": [
              "                                                      venue winner\n",
              "match_id                                                          \n",
              "2008_2    I.S. Bindra Punjab Cricket Association Stadium...    CSK\n",
              "2009_2                                             Newlands    RCB\n",
              "2010_2                                    Brabourne Stadium     MI"
            ]
          },
          "metadata": {
            "tags": []
          },
          "execution_count": 15
        }
      ]
    },
    {
      "cell_type": "markdown",
      "metadata": {
        "id": "nCF2pKpWOyxj",
        "colab_type": "text"
      },
      "source": [
        "## **iloc    (to subset data based on Row/Column number)**"
      ]
    },
    {
      "cell_type": "code",
      "metadata": {
        "id": "KoZOQ8KvOyxk",
        "colab_type": "code",
        "colab": {},
        "outputId": "37fac990-c122-4313-d0c2-a5814a2fced7"
      },
      "source": [
        "## Numeric based indexing usually makes sense for row subsetting \n",
        "ipl.iloc[50:53,1:5]"
      ],
      "execution_count": 0,
      "outputs": [
        {
          "output_type": "execute_result",
          "data": {
            "text/html": [
              "<div>\n",
              "<style scoped>\n",
              "    .dataframe tbody tr th:only-of-type {\n",
              "        vertical-align: middle;\n",
              "    }\n",
              "\n",
              "    .dataframe tbody tr th {\n",
              "        vertical-align: top;\n",
              "    }\n",
              "\n",
              "    .dataframe thead th {\n",
              "        text-align: right;\n",
              "    }\n",
              "</style>\n",
              "<table border=\"1\" class=\"dataframe\">\n",
              "  <thead>\n",
              "    <tr style=\"text-align: right;\">\n",
              "      <th></th>\n",
              "      <th>season</th>\n",
              "      <th>city</th>\n",
              "      <th>date</th>\n",
              "      <th>team1_id</th>\n",
              "    </tr>\n",
              "  </thead>\n",
              "  <tbody>\n",
              "    <tr>\n",
              "      <th>50</th>\n",
              "      <td>2008</td>\n",
              "      <td>Chennai</td>\n",
              "      <td>24-05-2008</td>\n",
              "      <td>RR</td>\n",
              "    </tr>\n",
              "    <tr>\n",
              "      <th>51</th>\n",
              "      <td>2008</td>\n",
              "      <td>Bangalore</td>\n",
              "      <td>03-05-2008</td>\n",
              "      <td>RCB</td>\n",
              "    </tr>\n",
              "    <tr>\n",
              "      <th>52</th>\n",
              "      <td>2008</td>\n",
              "      <td>Kolkata</td>\n",
              "      <td>25-05-2008</td>\n",
              "      <td>KXI</td>\n",
              "    </tr>\n",
              "  </tbody>\n",
              "</table>\n",
              "</div>"
            ],
            "text/plain": [
              "    season       city        date team1_id\n",
              "50    2008    Chennai  24-05-2008       RR\n",
              "51    2008  Bangalore  03-05-2008      RCB\n",
              "52    2008    Kolkata  25-05-2008      KXI"
            ]
          },
          "metadata": {
            "tags": []
          },
          "execution_count": 16
        }
      ]
    },
    {
      "cell_type": "markdown",
      "metadata": {
        "id": "QVmZuh15Oyxp",
        "colab_type": "text"
      },
      "source": [
        "## **Boolean indexing (to subset based on value in each cell of the column )**\n",
        "**Here we subsetting the data where the cell value in \"City\" column is equal to \"Hyderabad\"**"
      ]
    },
    {
      "cell_type": "code",
      "metadata": {
        "id": "j2Y0il3bOyxq",
        "colab_type": "code",
        "colab": {
          "base_uri": "https://localhost:8080/",
          "height": 365
        },
        "outputId": "d7811ef5-3fc8-47f1-e1e5-a2df1c84a3d5"
      },
      "source": [
        "subset3 = ipl.loc[ipl['winner']=='DD',:]\n",
        "subset3.head()"
      ],
      "execution_count": 74,
      "outputs": [
        {
          "output_type": "execute_result",
          "data": {
            "text/html": [
              "<div>\n",
              "<style scoped>\n",
              "    .dataframe tbody tr th:only-of-type {\n",
              "        vertical-align: middle;\n",
              "    }\n",
              "\n",
              "    .dataframe tbody tr th {\n",
              "        vertical-align: top;\n",
              "    }\n",
              "\n",
              "    .dataframe thead th {\n",
              "        text-align: right;\n",
              "    }\n",
              "</style>\n",
              "<table border=\"1\" class=\"dataframe\">\n",
              "  <thead>\n",
              "    <tr style=\"text-align: right;\">\n",
              "      <th></th>\n",
              "      <th>match_id</th>\n",
              "      <th>season</th>\n",
              "      <th>city</th>\n",
              "      <th>date</th>\n",
              "      <th>team1_id</th>\n",
              "      <th>team2_id</th>\n",
              "      <th>toss_winner</th>\n",
              "      <th>toss_decision</th>\n",
              "      <th>result</th>\n",
              "      <th>dl_applied</th>\n",
              "      <th>winner</th>\n",
              "      <th>win_by_runs</th>\n",
              "      <th>win_by_wickets</th>\n",
              "      <th>player_of_match</th>\n",
              "      <th>player_of_match_id</th>\n",
              "      <th>venue</th>\n",
              "      <th>umpire1</th>\n",
              "      <th>umpire2</th>\n",
              "    </tr>\n",
              "  </thead>\n",
              "  <tbody>\n",
              "    <tr>\n",
              "      <th>2</th>\n",
              "      <td>2008_3</td>\n",
              "      <td>2008</td>\n",
              "      <td>Delhi</td>\n",
              "      <td>19-04-2008</td>\n",
              "      <td>RR</td>\n",
              "      <td>DD</td>\n",
              "      <td>RR</td>\n",
              "      <td>bat</td>\n",
              "      <td>normal</td>\n",
              "      <td>0</td>\n",
              "      <td>DD</td>\n",
              "      <td>0</td>\n",
              "      <td>9</td>\n",
              "      <td>Farveez Maharoof</td>\n",
              "      <td>60.0</td>\n",
              "      <td>Feroz Shah Kotla Stadium, Delhi</td>\n",
              "      <td>Aleem Dar</td>\n",
              "      <td>GA Pratapkumar</td>\n",
              "    </tr>\n",
              "    <tr>\n",
              "      <th>6</th>\n",
              "      <td>2008_7</td>\n",
              "      <td>2008</td>\n",
              "      <td>Hyderabad</td>\n",
              "      <td>22-04-2008</td>\n",
              "      <td>DC</td>\n",
              "      <td>DD</td>\n",
              "      <td>DC</td>\n",
              "      <td>bat</td>\n",
              "      <td>normal</td>\n",
              "      <td>0</td>\n",
              "      <td>DD</td>\n",
              "      <td>0</td>\n",
              "      <td>9</td>\n",
              "      <td>Virender Sehwag</td>\n",
              "      <td>46.0</td>\n",
              "      <td>Rajiv Gandhi International Stadium, Hyderabad</td>\n",
              "      <td>IL Howell</td>\n",
              "      <td>AM Saheba</td>\n",
              "    </tr>\n",
              "    <tr>\n",
              "      <th>16</th>\n",
              "      <td>2008_17</td>\n",
              "      <td>2008</td>\n",
              "      <td>Delhi</td>\n",
              "      <td>30-04-2008</td>\n",
              "      <td>DD</td>\n",
              "      <td>RCB</td>\n",
              "      <td>RCB</td>\n",
              "      <td>field</td>\n",
              "      <td>normal</td>\n",
              "      <td>0</td>\n",
              "      <td>DD</td>\n",
              "      <td>10</td>\n",
              "      <td>0</td>\n",
              "      <td>Glenn McGrath</td>\n",
              "      <td>50.0</td>\n",
              "      <td>Feroz Shah Kotla Stadium, Delhi</td>\n",
              "      <td>Aleem Dar</td>\n",
              "      <td>I Shivram</td>\n",
              "    </tr>\n",
              "    <tr>\n",
              "      <th>19</th>\n",
              "      <td>2008_20</td>\n",
              "      <td>2008</td>\n",
              "      <td>Chennai</td>\n",
              "      <td>02-05-2008</td>\n",
              "      <td>CSK</td>\n",
              "      <td>DD</td>\n",
              "      <td>CSK</td>\n",
              "      <td>bat</td>\n",
              "      <td>normal</td>\n",
              "      <td>0</td>\n",
              "      <td>DD</td>\n",
              "      <td>0</td>\n",
              "      <td>8</td>\n",
              "      <td>Virender Sehwag</td>\n",
              "      <td>46.0</td>\n",
              "      <td>M.A.Chidambaram Stadium Chennai, Tamil Nadu</td>\n",
              "      <td>BF Bowden</td>\n",
              "      <td>K Hariharan</td>\n",
              "    </tr>\n",
              "    <tr>\n",
              "      <th>38</th>\n",
              "      <td>2008_39</td>\n",
              "      <td>2008</td>\n",
              "      <td>Delhi</td>\n",
              "      <td>15-05-2008</td>\n",
              "      <td>DD</td>\n",
              "      <td>DC</td>\n",
              "      <td>DC</td>\n",
              "      <td>field</td>\n",
              "      <td>normal</td>\n",
              "      <td>0</td>\n",
              "      <td>DD</td>\n",
              "      <td>12</td>\n",
              "      <td>0</td>\n",
              "      <td>Amit Mishra</td>\n",
              "      <td>52.0</td>\n",
              "      <td>Feroz Shah Kotla Stadium, Delhi</td>\n",
              "      <td>BG Jerling</td>\n",
              "      <td>GA Pratapkumar</td>\n",
              "    </tr>\n",
              "  </tbody>\n",
              "</table>\n",
              "</div>"
            ],
            "text/plain": [
              "   match_id  season  ...     umpire1         umpire2\n",
              "2    2008_3    2008  ...   Aleem Dar  GA Pratapkumar\n",
              "6    2008_7    2008  ...   IL Howell       AM Saheba\n",
              "16  2008_17    2008  ...   Aleem Dar       I Shivram\n",
              "19  2008_20    2008  ...   BF Bowden     K Hariharan\n",
              "38  2008_39    2008  ...  BG Jerling  GA Pratapkumar\n",
              "\n",
              "[5 rows x 18 columns]"
            ]
          },
          "metadata": {
            "tags": []
          },
          "execution_count": 74
        }
      ]
    },
    {
      "cell_type": "markdown",
      "metadata": {
        "id": "-jlnIGfLOyxt",
        "colab_type": "text"
      },
      "source": [
        "## **Piping of functions (for multiple criteria subsetting)**"
      ]
    },
    {
      "cell_type": "markdown",
      "metadata": {
        "id": "a3CK3qxsOyxt",
        "colab_type": "text"
      },
      "source": [
        "**Basically output of first function is taken as input for the next function**\n",
        "#### **Note - We are using a relational operator inside the first function to get a boolean vector (equal to the number of rows we have). Where the value will be True only if the \"city\" column is \"Hyderabad\"**"
      ]
    },
    {
      "cell_type": "code",
      "metadata": {
        "id": "Mm-aNVSbOyxv",
        "colab_type": "code",
        "colab": {},
        "outputId": "fb3823fc-27ed-4204-8bb1-3c2d3d28e0c9"
      },
      "source": [
        "subset4 = ipl.loc[ipl['city']=='Chennai',:].loc[ipl['winner']=='CSK',:].loc[:,['team1_id','team2_id','winner','city']]\n",
        "\n",
        "## This line achieves the same purpose as above\n",
        "# subset4 = ipl.loc[(ipl['city']=='Chennai') & (ipl['winner']=='CSK'),:].loc[:,['team1_id','team2_id','winner','city']]\n",
        "\n",
        "subset4.head(3)"
      ],
      "execution_count": 0,
      "outputs": [
        {
          "output_type": "execute_result",
          "data": {
            "text/html": [
              "<div>\n",
              "<style scoped>\n",
              "    .dataframe tbody tr th:only-of-type {\n",
              "        vertical-align: middle;\n",
              "    }\n",
              "\n",
              "    .dataframe tbody tr th {\n",
              "        vertical-align: top;\n",
              "    }\n",
              "\n",
              "    .dataframe thead th {\n",
              "        text-align: right;\n",
              "    }\n",
              "</style>\n",
              "<table border=\"1\" class=\"dataframe\">\n",
              "  <thead>\n",
              "    <tr style=\"text-align: right;\">\n",
              "      <th></th>\n",
              "      <th>team1_id</th>\n",
              "      <th>team2_id</th>\n",
              "      <th>winner</th>\n",
              "      <th>city</th>\n",
              "    </tr>\n",
              "  </thead>\n",
              "  <tbody>\n",
              "    <tr>\n",
              "      <th>7</th>\n",
              "      <td>CSK</td>\n",
              "      <td>MI</td>\n",
              "      <td>CSK</td>\n",
              "      <td>Chennai</td>\n",
              "    </tr>\n",
              "    <tr>\n",
              "      <th>11</th>\n",
              "      <td>KKR</td>\n",
              "      <td>CSK</td>\n",
              "      <td>CSK</td>\n",
              "      <td>Chennai</td>\n",
              "    </tr>\n",
              "    <tr>\n",
              "      <th>31</th>\n",
              "      <td>CSK</td>\n",
              "      <td>KXI</td>\n",
              "      <td>CSK</td>\n",
              "      <td>Chennai</td>\n",
              "    </tr>\n",
              "  </tbody>\n",
              "</table>\n",
              "</div>"
            ],
            "text/plain": [
              "   team1_id team2_id winner     city\n",
              "7       CSK       MI    CSK  Chennai\n",
              "11      KKR      CSK    CSK  Chennai\n",
              "31      CSK      KXI    CSK  Chennai"
            ]
          },
          "metadata": {
            "tags": []
          },
          "execution_count": 18
        }
      ]
    },
    {
      "cell_type": "markdown",
      "metadata": {
        "id": "qxC_0YMpOyxz",
        "colab_type": "text"
      },
      "source": [
        "### **Note**\n",
        "1. In the first command we have used 3 subsetting logics in a single line\n",
        "2. This can be alternatively done by chaining conditions using logical operations (&)\n",
        "3. **You may realize that sometimes giving single indexer (either row or column) works. However it may not be a consistent behaviour and its a good programming practive to specify both the indexers explicitly (row and column) as it makes the code more readable later on.**"
      ]
    },
    {
      "cell_type": "markdown",
      "metadata": {
        "id": "cVZNlZ6qOyx0",
        "colab_type": "text"
      },
      "source": [
        "## **Replace specific values**"
      ]
    },
    {
      "cell_type": "code",
      "metadata": {
        "id": "rEq0yt1cOyx1",
        "colab_type": "code",
        "colab": {},
        "outputId": "9e0cfafc-fa7b-44f2-88cf-6e871449b77b"
      },
      "source": [
        "ipl['winner'].value_counts()"
      ],
      "execution_count": 0,
      "outputs": [
        {
          "output_type": "execute_result",
          "data": {
            "text/plain": [
              "MI     80\n",
              "CSK    79\n",
              "RCB    70\n",
              "KKR    68\n",
              "RR     63\n",
              "KXI    63\n",
              "DD     56\n",
              "SRH    34\n",
              "DC     29\n",
              "PW     12\n",
              "GL      9\n",
              "KTK     6\n",
              "RPS     5\n",
              "Name: winner, dtype: int64"
            ]
          },
          "metadata": {
            "tags": []
          },
          "execution_count": 19
        }
      ]
    },
    {
      "cell_type": "code",
      "metadata": {
        "id": "vjlUEGOUOyx4",
        "colab_type": "code",
        "colab": {},
        "outputId": "c5d414ce-fd55-47ed-e1be-3920b0cc73b7"
      },
      "source": [
        "# Lets replace DC with SRH\n",
        "ipl_updated=ipl_final.replace({'DC':'SRH'}, inplace=False)\n",
        "\n",
        "ipl_updated['winner'].value_counts()"
      ],
      "execution_count": 0,
      "outputs": [
        {
          "output_type": "execute_result",
          "data": {
            "text/plain": [
              "MI     91\n",
              "CSK    79\n",
              "KKR    75\n",
              "RCB    73\n",
              "SRH    71\n",
              "KXI    70\n",
              "RR     63\n",
              "DD     62\n",
              "RPS    15\n",
              "GL     13\n",
              "PW     12\n",
              "KTK     6\n",
              "Name: winner, dtype: int64"
            ]
          },
          "metadata": {
            "tags": []
          },
          "execution_count": 20
        }
      ]
    },
    {
      "cell_type": "markdown",
      "metadata": {
        "collapsed": true,
        "id": "Y5Gf2-lNOyx7",
        "colab_type": "text"
      },
      "source": [
        "## **Activity**\n",
        "**What matches are played on 2008-04-20 and who is the winner?**"
      ]
    },
    {
      "cell_type": "code",
      "metadata": {
        "id": "0UUcIYDSOyx9",
        "colab_type": "code",
        "colab": {
          "base_uri": "https://localhost:8080/",
          "height": 112
        },
        "outputId": "e021f897-f5bd-49db-9ebe-e714632a7371"
      },
      "source": [
        "ipl.loc[ipl['date']=='20-04-2008',:].loc[:,['winner']]"
      ],
      "execution_count": 66,
      "outputs": [
        {
          "output_type": "execute_result",
          "data": {
            "text/html": [
              "<div>\n",
              "<style scoped>\n",
              "    .dataframe tbody tr th:only-of-type {\n",
              "        vertical-align: middle;\n",
              "    }\n",
              "\n",
              "    .dataframe tbody tr th {\n",
              "        vertical-align: top;\n",
              "    }\n",
              "\n",
              "    .dataframe thead th {\n",
              "        text-align: right;\n",
              "    }\n",
              "</style>\n",
              "<table border=\"1\" class=\"dataframe\">\n",
              "  <thead>\n",
              "    <tr style=\"text-align: right;\">\n",
              "      <th></th>\n",
              "      <th>winner</th>\n",
              "    </tr>\n",
              "  </thead>\n",
              "  <tbody>\n",
              "    <tr>\n",
              "      <th>3</th>\n",
              "      <td>RCB</td>\n",
              "    </tr>\n",
              "    <tr>\n",
              "      <th>4</th>\n",
              "      <td>KKR</td>\n",
              "    </tr>\n",
              "  </tbody>\n",
              "</table>\n",
              "</div>"
            ],
            "text/plain": [
              "  winner\n",
              "3    RCB\n",
              "4    KKR"
            ]
          },
          "metadata": {
            "tags": []
          },
          "execution_count": 66
        }
      ]
    },
    {
      "cell_type": "markdown",
      "metadata": {
        "id": "G3213TcAOyyB",
        "colab_type": "text"
      },
      "source": [
        "---\n",
        "## *<center>End</center>*"
      ]
    }
  ]
}