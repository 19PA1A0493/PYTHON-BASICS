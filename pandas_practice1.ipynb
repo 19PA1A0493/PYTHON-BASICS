{
  "nbformat": 4,
  "nbformat_minor": 0,
  "metadata": {
    "colab": {
      "name": "pandas practice1.ipynb",
      "provenance": [],
      "authorship_tag": "ABX9TyO1hMBSpBgw6JlvP7hPg9Ea",
      "include_colab_link": true
    },
    "kernelspec": {
      "name": "python3",
      "display_name": "Python 3"
    }
  },
  "cells": [
    {
      "cell_type": "markdown",
      "metadata": {
        "id": "view-in-github",
        "colab_type": "text"
      },
      "source": [
        "<a href=\"https://colab.research.google.com/github/19PA1A0493/PYTHON-BASICS/blob/master/pandas_practice1.ipynb\" target=\"_parent\"><img src=\"https://colab.research.google.com/assets/colab-badge.svg\" alt=\"Open In Colab\"/></a>"
      ]
    },
    {
      "cell_type": "code",
      "metadata": {
        "id": "f6ap8FxjdCH2",
        "colab_type": "code",
        "outputId": "0059fa79-5e7b-4180-ab3d-033c62b58e9d",
        "colab": {
          "base_uri": "https://localhost:8080/",
          "height": 34
        }
      },
      "source": [
        "import pandas as pd\n",
        "import numpy as np\n",
        "a=pd.Series()\n",
        "print(a)"
      ],
      "execution_count": 29,
      "outputs": [
        {
          "output_type": "stream",
          "text": [
            "Series([], dtype: float64)\n"
          ],
          "name": "stdout"
        }
      ]
    },
    {
      "cell_type": "code",
      "metadata": {
        "id": "SMJue7T3gjJs",
        "colab_type": "code",
        "outputId": "2ccfbdd4-32a8-4e5f-9d53-46eadefa85b0",
        "colab": {
          "base_uri": "https://localhost:8080/",
          "height": 119
        }
      },
      "source": [
        "import pandas as pd\n",
        "import numpy as np\n",
        "a=np.array([\"v\",\"a\",\"m\",\"s\",\"i\"])\n",
        "b=pd.Series(a)\n",
        "print(b)"
      ],
      "execution_count": 0,
      "outputs": [
        {
          "output_type": "stream",
          "text": [
            "0    v\n",
            "1    a\n",
            "2    m\n",
            "3    s\n",
            "4    i\n",
            "dtype: object\n"
          ],
          "name": "stdout"
        }
      ]
    },
    {
      "cell_type": "code",
      "metadata": {
        "id": "2Wd9VawHh_VD",
        "colab_type": "code",
        "outputId": "ebb4180d-c31f-43d9-8389-b01975ed9e0e",
        "colab": {
          "base_uri": "https://localhost:8080/",
          "height": 102
        }
      },
      "source": [
        "import pandas as pd\n",
        "import numpy as np\n",
        "a=np.array([\"s\",\"i\",\"y\",\"a\"])\n",
        "b=pd.Series(a,index=[1,2,3,4])\n",
        "print(b)"
      ],
      "execution_count": 0,
      "outputs": [
        {
          "output_type": "stream",
          "text": [
            "1    s\n",
            "2    i\n",
            "3    y\n",
            "4    a\n",
            "dtype: object\n"
          ],
          "name": "stdout"
        }
      ]
    },
    {
      "cell_type": "code",
      "metadata": {
        "id": "ntKALGhjfSV1",
        "colab_type": "code",
        "outputId": "c8036c47-c091-42b1-f40e-5f02a0e051fe",
        "colab": {
          "base_uri": "https://localhost:8080/",
          "height": 102
        }
      },
      "source": [
        "import pandas as pd\n",
        "import numpy as np\n",
        "a=np.array([\"s\",\"i\",\"y\",\"a\"])\n",
        "b=pd.Series(a)\n",
        "print(b)"
      ],
      "execution_count": 0,
      "outputs": [
        {
          "output_type": "stream",
          "text": [
            "0    s\n",
            "1    i\n",
            "2    y\n",
            "3    a\n",
            "dtype: object\n"
          ],
          "name": "stdout"
        }
      ]
    },
    {
      "cell_type": "code",
      "metadata": {
        "id": "4b8wOHuCjHvd",
        "colab_type": "code",
        "outputId": "68761083-ebed-4d67-ae8e-d1cea5bae128",
        "colab": {
          "base_uri": "https://localhost:8080/",
          "height": 119
        }
      },
      "source": [
        "import pandas as pd\n",
        "import numpy as np\n",
        "s={1:\"v\",2:\"a\",3:\"m\",4:\"s\",5:\"i\"}\n",
        "i=pd.Series(s)\n",
        "i"
      ],
      "execution_count": 0,
      "outputs": [
        {
          "output_type": "execute_result",
          "data": {
            "text/plain": [
              "1    v\n",
              "2    a\n",
              "3    m\n",
              "4    s\n",
              "5    i\n",
              "dtype: object"
            ]
          },
          "metadata": {
            "tags": []
          },
          "execution_count": 15
        }
      ]
    },
    {
      "cell_type": "code",
      "metadata": {
        "id": "j7mqW3VOkUF1",
        "colab_type": "code",
        "outputId": "ae399037-8a23-4ffa-8338-540976a6161f",
        "colab": {
          "base_uri": "https://localhost:8080/",
          "height": 102
        }
      },
      "source": [
        "import pandas as pd\n",
        "import numpy as np\n",
        "a={1:\"s\",2:\"i\",3:\"y\",4:\"a\"}\n",
        "c=pd.Series(a,index=[1,4,3,2])\n",
        "print(c)"
      ],
      "execution_count": 0,
      "outputs": [
        {
          "output_type": "stream",
          "text": [
            "1    s\n",
            "4    a\n",
            "3    y\n",
            "2    i\n",
            "dtype: object\n"
          ],
          "name": "stdout"
        }
      ]
    },
    {
      "cell_type": "code",
      "metadata": {
        "id": "WcazFbDxleFW",
        "colab_type": "code",
        "outputId": "78a5a5f6-daa7-4fa0-d77f-484866465e59",
        "colab": {
          "base_uri": "https://localhost:8080/",
          "height": 340
        }
      },
      "source": [
        "import pandas as pd\n",
        "import numpy as np\n",
        "a=pd.Series(5,index=[0,1,2,3,4,5,6,7,7,8])\n",
        "print(a)\n",
        "d=pd.Series(1,index=[1,2,3,4,5,6,78])\n",
        "print(d)"
      ],
      "execution_count": 0,
      "outputs": [
        {
          "output_type": "stream",
          "text": [
            "0    5\n",
            "1    5\n",
            "2    5\n",
            "3    5\n",
            "4    5\n",
            "5    5\n",
            "6    5\n",
            "7    5\n",
            "7    5\n",
            "8    5\n",
            "dtype: int64\n",
            "1     1\n",
            "2     1\n",
            "3     1\n",
            "4     1\n",
            "5     1\n",
            "6     1\n",
            "78    1\n",
            "dtype: int64\n"
          ],
          "name": "stdout"
        }
      ]
    },
    {
      "cell_type": "code",
      "metadata": {
        "id": "mONjh4eKmX3M",
        "colab_type": "code",
        "outputId": "cd5ffa15-3d38-4e3e-b40d-ddf2eaf7133c",
        "colab": {
          "base_uri": "https://localhost:8080/",
          "height": 272
        }
      },
      "source": [
        "import pandas as pd\n",
        "import numpy as np\n",
        "a=pd.Series([11,22,33,44,55,66,77,88])\n",
        "print(a)\n",
        "print(a[0])\n",
        "print(a[1:4])\n",
        "print(a[-2:-6])"
      ],
      "execution_count": 0,
      "outputs": [
        {
          "output_type": "stream",
          "text": [
            "0    11\n",
            "1    22\n",
            "2    33\n",
            "3    44\n",
            "4    55\n",
            "5    66\n",
            "6    77\n",
            "7    88\n",
            "dtype: int64\n",
            "11\n",
            "1    22\n",
            "2    33\n",
            "3    44\n",
            "dtype: int64\n",
            "Series([], dtype: int64)\n"
          ],
          "name": "stdout"
        }
      ]
    },
    {
      "cell_type": "code",
      "metadata": {
        "id": "hDUZ2Aj5ncBN",
        "colab_type": "code",
        "outputId": "f88f71fc-e766-407f-ce74-f1dd0c0c1405",
        "colab": {
          "base_uri": "https://localhost:8080/",
          "height": 170
        }
      },
      "source": [
        "import pandas as pd\n",
        "import numpy as np\n",
        "a=pd.Series([11,22,33,44], index=[\"aa\",\"bb\",\"cc\",\"dd\"])\n",
        "print(a)\n",
        "print(a[[\"dd\",\"aa\",\"cc\"]])\n"
      ],
      "execution_count": 0,
      "outputs": [
        {
          "output_type": "stream",
          "text": [
            "aa    11\n",
            "bb    22\n",
            "cc    33\n",
            "dd    44\n",
            "dtype: int64\n",
            "dd    44\n",
            "aa    11\n",
            "cc    33\n",
            "dtype: int64\n"
          ],
          "name": "stdout"
        }
      ]
    },
    {
      "cell_type": "code",
      "metadata": {
        "id": "6uGM90pdoN1X",
        "colab_type": "code",
        "colab": {
          "base_uri": "https://localhost:8080/",
          "height": 68
        },
        "outputId": "cd93edbe-6ed6-4b66-91ed-a68850ac1d67"
      },
      "source": [
        "import pandas as pd\n",
        "import numpy as np\n",
        "a=pd.DataFrame()\n",
        "print(a)"
      ],
      "execution_count": 31,
      "outputs": [
        {
          "output_type": "stream",
          "text": [
            "Empty DataFrame\n",
            "Columns: []\n",
            "Index: []\n"
          ],
          "name": "stdout"
        }
      ]
    },
    {
      "cell_type": "code",
      "metadata": {
        "id": "9Zt3VQoYqHI_",
        "colab_type": "code",
        "colab": {
          "base_uri": "https://localhost:8080/",
          "height": 102
        },
        "outputId": "2553cfba-6b6f-4f45-959e-41997f69fa82"
      },
      "source": [
        "import pandas as pd\n",
        "import numpy as np\n",
        "a=pd.DataFrame([[\"ECE491\",\"vamsi\",82],[\"ECE492\",\"ram\",78],[\"ECE493\",\"krishna\",100],[\"ECE494\",\"siya\",89]],columns=[\"roll no\",\"name\",\"marks\"])\n",
        "print(a)\n"
      ],
      "execution_count": 33,
      "outputs": [
        {
          "output_type": "stream",
          "text": [
            "  roll no     name  marks\n",
            "0  ECE491    vamsi     82\n",
            "1  ECE492      ram     78\n",
            "2  ECE493  krishna    100\n",
            "3  ECE494     siya     89\n"
          ],
          "name": "stdout"
        }
      ]
    },
    {
      "cell_type": "code",
      "metadata": {
        "id": "6yS9emNbsIX8",
        "colab_type": "code",
        "colab": {
          "base_uri": "https://localhost:8080/",
          "height": 119
        },
        "outputId": "cda80117-a261-4375-ccd1-98b0966ac819"
      },
      "source": [
        "import pandas as pd\n",
        "import numpy as np\n",
        "a=pd.DataFrame({\"roll no\":[1,2,3,4,5],\"name\":[\"a\",\"b\",\"c\",\"d\",\"e\"],\"marks\":[10,12,13,15,22]},index=[1,2,3,4,5])\n",
        "print(a)"
      ],
      "execution_count": 36,
      "outputs": [
        {
          "output_type": "stream",
          "text": [
            "   roll no name  marks\n",
            "1        1    a     10\n",
            "2        2    b     12\n",
            "3        3    c     13\n",
            "4        4    d     15\n",
            "5        5    e     22\n"
          ],
          "name": "stdout"
        }
      ]
    },
    {
      "cell_type": "code",
      "metadata": {
        "id": "YU970Tc1tlGH",
        "colab_type": "code",
        "colab": {
          "base_uri": "https://localhost:8080/",
          "height": 187
        },
        "outputId": "63cb0ebb-c0d6-403e-af0f-c9c9d23c4f78"
      },
      "source": [
        "import pandas as pd\n",
        "import numpy as np\n",
        "a=pd.DataFrame({\"rollno\":[1,2,3,4],\"name\":[\"s\",\"i\",\"y\",\"a\"],\"marks\":[11,22,33,44]})\n",
        "print(a)\n",
        "g=a[\"name\"]\n",
        "print(g)\n",
        "\n"
      ],
      "execution_count": 46,
      "outputs": [
        {
          "output_type": "stream",
          "text": [
            "   rollno name  marks\n",
            "0       1    s     11\n",
            "1       2    i     22\n",
            "2       3    y     33\n",
            "3       4    a     44\n",
            "0    s\n",
            "1    i\n",
            "2    y\n",
            "3    a\n",
            "Name: name, dtype: object\n"
          ],
          "name": "stdout"
        }
      ]
    },
    {
      "cell_type": "code",
      "metadata": {
        "id": "0be76rV3vwtI",
        "colab_type": "code",
        "colab": {}
      },
      "source": [
        ""
      ],
      "execution_count": 0,
      "outputs": []
    }
  ]
}