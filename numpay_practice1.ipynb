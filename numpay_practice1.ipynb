{
  "nbformat": 4,
  "nbformat_minor": 0,
  "metadata": {
    "colab": {
      "name": "numpay practice1.ipynb",
      "provenance": [],
      "authorship_tag": "ABX9TyNaK9M2GAzyJymFIEkLYhFi",
      "include_colab_link": true
    },
    "kernelspec": {
      "name": "python3",
      "display_name": "Python 3"
    }
  },
  "cells": [
    {
      "cell_type": "markdown",
      "metadata": {
        "id": "view-in-github",
        "colab_type": "text"
      },
      "source": [
        "<a href=\"https://colab.research.google.com/github/19PA1A0493/PYTHON-BASICS/blob/master/numpay_practice1.ipynb\" target=\"_parent\"><img src=\"https://colab.research.google.com/assets/colab-badge.svg\" alt=\"Open In Colab\"/></a>"
      ]
    },
    {
      "cell_type": "code",
      "metadata": {
        "id": "OqpnPh6eSb2d",
        "colab_type": "code",
        "colab": {
          "base_uri": "https://localhost:8080/",
          "height": 255
        },
        "outputId": "4ff3607a-16b4-4686-88ed-9db8c4981fd7"
      },
      "source": [
        "import numpy as np\n",
        "a=np.array([[1,2,3],[4,5,6],[9,8,7]])\n",
        "b=np.array([[0,0,1],[2,2,2],[3,3,3]])\n",
        "m=(a*b)\n",
        "n=(a+b)\n",
        "v=(a-b)\n",
        "c=(a/b)\n",
        "print(m)\n",
        "print(n)\n",
        "print(v)\n",
        "print(c)\n"
      ],
      "execution_count": 14,
      "outputs": [
        {
          "output_type": "stream",
          "text": [
            "[[ 0  0  3]\n",
            " [ 8 10 12]\n",
            " [27 24 21]]\n",
            "[[ 1  2  4]\n",
            " [ 6  7  8]\n",
            " [12 11 10]]\n",
            "[[1 2 2]\n",
            " [2 3 4]\n",
            " [6 5 4]]\n",
            "[[       inf        inf 3.        ]\n",
            " [2.         2.5        3.        ]\n",
            " [3.         2.66666667 2.33333333]]\n"
          ],
          "name": "stdout"
        },
        {
          "output_type": "stream",
          "text": [
            "/usr/local/lib/python3.6/dist-packages/ipykernel_launcher.py:7: RuntimeWarning: divide by zero encountered in true_divide\n",
            "  import sys\n"
          ],
          "name": "stderr"
        }
      ]
    },
    {
      "cell_type": "code",
      "metadata": {
        "id": "lFalkcPlUgmg",
        "colab_type": "code",
        "colab": {
          "base_uri": "https://localhost:8080/",
          "height": 136
        },
        "outputId": "95f72487-09c1-4f1b-c655-fd943e45ddc7"
      },
      "source": [
        "import numpy as np\n",
        "a=np.array([[1,2,3,4,5,6],[7,8,9,0,1,6]])\n",
        "print(a)\n",
        "s=np.hsplit(a,3)\n",
        "print(s)\n",
        "d=np.vsplit(a,2)\n",
        "print(d)\n"
      ],
      "execution_count": 21,
      "outputs": [
        {
          "output_type": "stream",
          "text": [
            "[[1 2 3 4 5 6]\n",
            " [7 8 9 0 1 6]]\n",
            "[array([[1, 2],\n",
            "       [7, 8]]), array([[3, 4],\n",
            "       [9, 0]]), array([[5, 6],\n",
            "       [1, 6]])]\n",
            "[array([[1, 2, 3, 4, 5, 6]]), array([[7, 8, 9, 0, 1, 6]])]\n"
          ],
          "name": "stdout"
        }
      ]
    },
    {
      "cell_type": "code",
      "metadata": {
        "id": "ZYfdEvJMYIKP",
        "colab_type": "code",
        "colab": {
          "base_uri": "https://localhost:8080/",
          "height": 119
        },
        "outputId": "d95d1338-533d-4587-de70-84d1427c6343"
      },
      "source": [
        "import numpy as np\n",
        "a=np.floor(5*np.random.random((2,2)))\n",
        "b=np.floor(5*np.random.random((2,2)))\n",
        "c=np.vstack((a,b))\n",
        "print(c)\n",
        "v=np.hstack((a,b))\n",
        "print(v)"
      ],
      "execution_count": 39,
      "outputs": [
        {
          "output_type": "stream",
          "text": [
            "[[0. 1.]\n",
            " [3. 1.]\n",
            " [3. 1.]\n",
            " [0. 2.]]\n",
            "[[0. 1. 3. 1.]\n",
            " [3. 1. 0. 2.]]\n"
          ],
          "name": "stdout"
        }
      ]
    },
    {
      "cell_type": "code",
      "metadata": {
        "id": "T2gHuhUnZzhN",
        "colab_type": "code",
        "colab": {
          "base_uri": "https://localhost:8080/",
          "height": 68
        },
        "outputId": "a65d238e-7eff-40f9-d2e8-d6840212b6c2"
      },
      "source": [
        "import numpy as np\n",
        "a=np.floor(10*np.random.random((3,6)))\n",
        "s=a.reshape((2,9))\n",
        "f=a.resize((18,1))\n",
        "print(s)\n",
        "print(f)"
      ],
      "execution_count": 44,
      "outputs": [
        {
          "output_type": "stream",
          "text": [
            "[[8. 6. 5. 6. 3. 7. 1. 5. 7.]\n",
            " [8. 9. 4. 0. 2. 8. 0. 4. 0.]]\n",
            "None\n"
          ],
          "name": "stdout"
        }
      ]
    },
    {
      "cell_type": "code",
      "metadata": {
        "id": "GxTpIQLzbEal",
        "colab_type": "code",
        "colab": {
          "base_uri": "https://localhost:8080/",
          "height": 68
        },
        "outputId": "8d584f7b-ce9e-49c2-f50a-c23554f4613d"
      },
      "source": [
        "import numpy as np\n",
        "a=np.array([[1,2,3],[4,5,6],[1,2,3]])\n",
        "c=a.T\n",
        "print(c)"
      ],
      "execution_count": 45,
      "outputs": [
        {
          "output_type": "stream",
          "text": [
            "[[1 4 1]\n",
            " [2 5 2]\n",
            " [3 6 3]]\n"
          ],
          "name": "stdout"
        }
      ]
    },
    {
      "cell_type": "code",
      "metadata": {
        "id": "l0YnTIedcAMO",
        "colab_type": "code",
        "colab": {}
      },
      "source": [
        ""
      ],
      "execution_count": 0,
      "outputs": []
    },
    {
      "cell_type": "code",
      "metadata": {
        "id": "gJHf9vROcAOF",
        "colab_type": "code",
        "colab": {
          "base_uri": "https://localhost:8080/",
          "height": 102
        },
        "outputId": "5207cb01-3671-445d-f4e5-9d882506a604"
      },
      "source": [
        "import numpy as np\n",
        "a=np.floor(10*np.random.random((6,4)))\n",
        "c=a.ravel()\n",
        "v=a.T\n",
        "print(c)\n",
        "print(v)"
      ],
      "execution_count": 46,
      "outputs": [
        {
          "output_type": "stream",
          "text": [
            "[6. 7. 0. 7. 8. 5. 3. 9. 0. 1. 7. 8. 0. 8. 7. 2. 2. 9. 0. 1. 7. 7. 6. 0.]\n",
            "[[6. 8. 0. 0. 2. 7.]\n",
            " [7. 5. 1. 8. 9. 7.]\n",
            " [0. 3. 7. 7. 0. 6.]\n",
            " [7. 9. 8. 2. 1. 0.]]\n"
          ],
          "name": "stdout"
        }
      ]
    },
    {
      "cell_type": "code",
      "metadata": {
        "id": "Zd0auy5xccfz",
        "colab_type": "code",
        "colab": {
          "base_uri": "https://localhost:8080/",
          "height": 170
        },
        "outputId": "ce02d59b-512a-48a7-e34c-b0a7670c1856"
      },
      "source": [
        "import numpy as np\n",
        "a=np.arange(12).reshape(4,3)**2\n",
        "print(a)\n",
        "print(a[1:3])\n",
        "print(a[2:3])\n",
        "print(a[ :2])\n"
      ],
      "execution_count": 54,
      "outputs": [
        {
          "output_type": "stream",
          "text": [
            "[[  0   1   4]\n",
            " [  9  16  25]\n",
            " [ 36  49  64]\n",
            " [ 81 100 121]]\n",
            "[[ 9 16 25]\n",
            " [36 49 64]]\n",
            "[[36 49 64]]\n",
            "[[ 0  1  4]\n",
            " [ 9 16 25]]\n"
          ],
          "name": "stdout"
        }
      ]
    },
    {
      "cell_type": "code",
      "metadata": {
        "id": "mkLN6W5Tfl9K",
        "colab_type": "code",
        "colab": {
          "base_uri": "https://localhost:8080/",
          "height": 289
        },
        "outputId": "721b3a9e-451c-4f65-d66d-59037f2255cf"
      },
      "source": [
        "import numpy as np\n",
        "a=np.arange(12).reshape(4,3)**2\n",
        "print(a)\n",
        "for i in a.flat:\n",
        "  print(i)"
      ],
      "execution_count": 56,
      "outputs": [
        {
          "output_type": "stream",
          "text": [
            "[[  0   1   4]\n",
            " [  9  16  25]\n",
            " [ 36  49  64]\n",
            " [ 81 100 121]]\n",
            "0\n",
            "1\n",
            "4\n",
            "9\n",
            "16\n",
            "25\n",
            "36\n",
            "49\n",
            "64\n",
            "81\n",
            "100\n",
            "121\n"
          ],
          "name": "stdout"
        }
      ]
    },
    {
      "cell_type": "code",
      "metadata": {
        "id": "HdXpqPR4gK1W",
        "colab_type": "code",
        "colab": {
          "base_uri": "https://localhost:8080/",
          "height": 221
        },
        "outputId": "b0902cdd-23aa-4222-c72f-3e8a024a1b2c"
      },
      "source": [
        "import numpy as np\n",
        "a=np.arange(18).reshape(6,3)**2\n",
        "print(a)\n",
        "for i in a:\n",
        "  print(i)"
      ],
      "execution_count": 58,
      "outputs": [
        {
          "output_type": "stream",
          "text": [
            "[[  0   1   4]\n",
            " [  9  16  25]\n",
            " [ 36  49  64]\n",
            " [ 81 100 121]\n",
            " [144 169 196]\n",
            " [225 256 289]]\n",
            "[0 1 4]\n",
            "[ 9 16 25]\n",
            "[36 49 64]\n",
            "[ 81 100 121]\n",
            "[144 169 196]\n",
            "[225 256 289]\n"
          ],
          "name": "stdout"
        }
      ]
    }
  ]
}